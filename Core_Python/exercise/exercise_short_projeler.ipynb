{
 "cells": [
  {
   "cell_type": "markdown",
   "id": "bb5fd8fe",
   "metadata": {},
   "source": [
    "1 .Given a string of odd length greater than 5, return a new string made of the middle three characters of a given String:\n",
    "Example:\n",
    "\n",
    "\"Murat\" >>> \"ura\"\n",
    "\"Techpro\" >>> \"chp\" "
   ]
  },
  {
   "cell_type": "code",
   "execution_count": 1,
   "id": "200330a8",
   "metadata": {},
   "outputs": [
    {
     "name": "stdout",
     "output_type": "stream",
     "text": [
      "girilen ifade 5 den kücüktür lütfen 5 den büyük bir ifade giriniz...\n",
      "bu ifade : denemes nin uzunluk = 7 dir\n",
      "Ortadaki üç karakterden oluşan yeni dize: nem\n"
     ]
    }
   ],
   "source": [
    "import numpy as np\n",
    "import pandas as pd\n",
    "\n",
    "while True:\n",
    "\n",
    "    str_ifade = input(\"buraya ifade giriniz... \")\n",
    "    \n",
    "\n",
    "    if  len(str_ifade) > 5 and len(str_ifade) % 2:\n",
    "\n",
    "        orta_index = len(str_ifade) // 2\n",
    "        \n",
    "        print(f\"bu ifade : {str_ifade} nin uzunluk = {len(str_ifade)} dir\")\n",
    "\n",
    "        arr = np.array(list(str_ifade))\n",
    "        yeni_dizi = arr[orta_index - 1:orta_index + 2]\n",
    "        yeni_ifade = ''.join(yeni_dizi)\n",
    "        print(f\"Ortadaki üç karakterden oluşan yeni dize: {yeni_ifade}\")\n",
    "         \n",
    "        break\n",
    "\n",
    "    else:\n",
    "        if(len(str_ifade ) <= 5):\n",
    "            print(\"girilen ifade 5 den kücüktür lütfen 5 den büyük bir ifade giriniz...\")\n",
    "        else:\n",
    "            print(\"lütfen girilne ifadenin uzunluğu tek sayidan oluşsun...\")\n"
   ]
  },
  {
   "cell_type": "markdown",
   "id": "d4504fd6",
   "metadata": {},
   "source": [
    "2 - Write a Python program to remove all elements from a given list present in another list. Go to the editor\n",
    "Original lists:\n",
    "list1: [1, 2, 3, 4, 5, 6, 7, 8, 9, 10]\n",
    "list2: [2, 4, 6, 8]\n",
    "Remove all elements from 'list1' present in 'list2:\n",
    "[1, 3, 5, 7, 9, 10]"
   ]
  },
  {
   "cell_type": "code",
   "execution_count": 2,
   "id": "8c8e0c14",
   "metadata": {},
   "outputs": [
    {
     "data": {
      "text/plain": [
       "array([ 1,  3,  5,  7,  9, 10])"
      ]
     },
     "execution_count": 2,
     "metadata": {},
     "output_type": "execute_result"
    }
   ],
   "source": [
    "import numpy as np\n",
    "arr_1 = np.array([1,2,3,4,5,6,7,8,9,10])\n",
    "arr_2 = np.array([2,4,6,8])\n",
    "\n",
    "result = np.setdiff1d(arr_1, arr_2)\n",
    "\n",
    "result\n",
    "\n",
    "\n",
    "\n",
    "\n",
    "\n"
   ]
  },
  {
   "cell_type": "markdown",
   "id": "5deef34a",
   "metadata": {},
   "source": [
    "3 - Negatif olmayan iki sayı alınız ve bu iki sayı arasındaki sayılardan tek olanları key, karelerini de value olacak şekilde sözlük haline getiren bir fonksiyon yazınız. (Sayıların kendileri dahil!)\n",
    "\n",
    "Example:\n",
    "keyvalue(12,5)\n",
    "\n",
    "{5: 25, 7: 49, 9: 81, 11: 121}"
   ]
  },
  {
   "cell_type": "code",
   "execution_count": 3,
   "id": "392998d1",
   "metadata": {},
   "outputs": [
    {
     "name": "stdout",
     "output_type": "stream",
     "text": [
      "buradayım be buradayım\n",
      "{5: 25, 7: 49, 9: 81, 11: 121}\n"
     ]
    }
   ],
   "source": [
    "import numpy as np\n",
    "\n",
    "dic = {}\n",
    "#lis = []\n",
    "my_lis = np.array(dic)\n",
    "\n",
    "\n",
    "while True:\n",
    "    sayi_girin_1 = int(input(\"Sayi girininz...\"))\n",
    "    sayi_girin_2 = int(input(\"Sayi girininz...\"))\n",
    "    \n",
    "    if sayi_girin_1  >= 0 and sayi_girin_2 >= 0:\n",
    "        print(\"buradayım be buradayım\")\n",
    "        \n",
    "        for i in range(sayi_girin_1,(sayi_girin_2+1)):\n",
    "            if i % 2:\n",
    "                dic[i] = i**2\n",
    "                #lis[i] = i ** 2\n",
    "                \n",
    "        \n",
    "        \n",
    "        print(my_lis)\n",
    "        \n",
    "        break\n",
    "    else:\n",
    "        print(\"lütfen Negatif sayi girmeyiniz...\")\n",
    "\n"
   ]
  },
  {
   "cell_type": "markdown",
   "id": "903f7ae5",
   "metadata": {},
   "source": [
    "4 - Ardışık sıfırlar ve birler:\n",
    "\n",
    "Bu sorunun amacı, yalnızca sıfırlar ve birlerden oluşan bir ikili diziyi analiz etmektir. Kodunuz, dizedeki en büyük ardışık sıfır ve birlerin sayısını bulmalıdır. Örneğin, dize verildiğinde:\n",
    "\n",
    "\"1001101000110\" Ardışık sıfırların en büyük sayısı 3'tür.\n",
    "\n",
    "\"1001101000110\" Ardışık birlerin en büyük sayısı 2'dir.\n",
    "\n",
    "Sıfırlar ve birler dizisi olan tek bir parametre alan ardışık_sıfırlar adlı bir fonksiyon tanımlayın."
   ]
  },
  {
   "cell_type": "code",
   "execution_count": 5,
   "id": "83823ad3",
   "metadata": {},
   "outputs": [
    {
     "name": "stdout",
     "output_type": "stream",
     "text": [
      "[1001101000110]\n",
      "Tekrar eden sifir sayisi: 3\n",
      "Tekrar eden bir sayisi: 2\n"
     ]
    }
   ],
   "source": [
    "import numpy as np\n",
    "\n",
    "arr = np.array([1001101000110])\n",
    "\n",
    "arr\n",
    "\n",
    "lis = []\n",
    "for i in arr:\n",
    "    lis.append(i)\n",
    "\n",
    "#lis = arr.tolist()\n",
    "print(lis)\n",
    "\n",
    "lis = [int(i) for i in str(arr[0])]\n",
    "\n",
    "\n",
    "mx_sifir = 0\n",
    "sifir = 0\n",
    "\n",
    "for i in lis:\n",
    "    if i == 0:\n",
    "        sifir += 1\n",
    "    \n",
    "    if i == 1:\n",
    "        if (mx_sifir < sifir):\n",
    "            mx_sifir = sifir\n",
    "        sifir = 0\n",
    "            \n",
    "print(f\"Tekrar eden sifir sayisi: {mx_sifir}\")            \n",
    "\n",
    "\n",
    "mx_bir = 0\n",
    "bir = 0\n",
    "for i in lis:\n",
    "    if i == 1:\n",
    "        bir += 1\n",
    "    \n",
    "    if i == 0:\n",
    "        if (mx_bir < bir):\n",
    "            mx_bir = bir\n",
    "        bir = 0\n",
    "print(f\"Tekrar eden bir sayisi: {mx_bir}\")            \n",
    "\n",
    "\n"
   ]
  },
  {
   "cell_type": "markdown",
   "id": "26614e94",
   "metadata": {},
   "source": [
    "5- \n",
    "Parametre olarak negatif olmayan bir sayı alan \"format_number\" adında bir fonksiyon yazın.\n",
    "\n",
    "Fonksiyonunuz sayıyı bir stringe dönüştürmeli ve binlik ayırıcı olarak virgül eklemelidir.\n",
    "\n",
    "Örneğin, format_number(1000000) Output: \"1,000,000\" çıktısını vermelidir."
   ]
  },
  {
   "cell_type": "code",
   "execution_count": 6,
   "id": "d4efed96",
   "metadata": {
    "ExecuteTime": {
     "end_time": "2023-11-04T22:05:00.563420Z",
     "start_time": "2023-11-04T22:04:59.315297Z"
    }
   },
   "outputs": [
    {
     "name": "stdout",
     "output_type": "stream",
     "text": [
      "45,622,223,338,845,542,123,121\n"
     ]
    },
    {
     "data": {
      "text/plain": [
       "'12132124554883332222654'"
      ]
     },
     "execution_count": 6,
     "metadata": {},
     "output_type": "execute_result"
    }
   ],
   "source": [
    "\n",
    "def format_number():\n",
    "    \n",
    "    while True:\n",
    "        sayi = int(input(\"pozitif sayi giriniz...: \"))\n",
    "        if sayi <= 0:\n",
    "            print(\"lütfen pozitif sayi giriniz ...\")\n",
    "            continue \n",
    "        else:\n",
    "            \n",
    "            sayi = str(sayi)[::-1]\n",
    "            uzunluk = len(sayi)\n",
    "            metin = \"\"\n",
    "            for i in range(0,uzunluk):\n",
    "                if i % 3 == 0 and i!=0:\n",
    "                    metin+=\",\"\n",
    "                metin+= sayi[i]\n",
    "                \n",
    "            print(metin[::-1])\n",
    "  \n",
    "            \n",
    "            break\n",
    "    return sayi\n",
    "                \n",
    "    \n",
    "format_number()\n",
    "            \n",
    "            \n",
    "            \n",
    "\n",
    "            \n",
    " "
   ]
  },
  {
   "cell_type": "markdown",
   "id": "52dc60b7",
   "metadata": {},
   "source": [
    "6-\n",
    "Kullanıcıdan alınan bir text dizisinin tüm noktalama işaretlerini temizleyen bir fonksiyon yazınız.\n",
    "Example:\n",
    "cleaning(\"nas,ıls..ın\") >>> \"nasılsın\""
   ]
  },
  {
   "cell_type": "code",
   "execution_count": 44,
   "id": "00a9c818",
   "metadata": {
    "ExecuteTime": {
     "end_time": "2023-11-04T22:08:24.943295Z",
     "start_time": "2023-11-04T22:08:24.939463Z"
    }
   },
   "outputs": [
    {
     "name": "stdout",
     "output_type": "stream",
     "text": [
      "asilşdkdasdasdasd\n"
     ]
    }
   ],
   "source": [
    "noktalama = \".,:;?!\"\n",
    "\n",
    "text = input(\"text giriniz: \")\n",
    "\n",
    "for i in text:\n",
    "    if (i in noktalama):\n",
    "        text = text.replace(i,\"\") \n",
    "print(text)\n",
    "\n",
    "\n",
    "\n"
   ]
  },
  {
   "cell_type": "markdown",
   "id": "d7d5f9a8",
   "metadata": {},
   "source": [
    "7-\n",
    "Kullanıcıdan bir sayı girmesini isteyin ve girilen sayıya göre papatya falı döndüren algoritma yazın. Son çıktının tüm karakterlerinin upper olmasına dikkat edin.\n",
    "\n",
    "example:\n",
    "input >> 5\n",
    "output >> ['Loves Me', 'Loves Me Not', 'Loves Me', 'Loves Me Not', 'LOVES ME']"
   ]
  },
  {
   "cell_type": "code",
   "execution_count": 45,
   "id": "3dd36d82",
   "metadata": {
    "ExecuteTime": {
     "end_time": "2023-11-04T23:08:52.606969Z",
     "start_time": "2023-11-04T23:08:51.028599Z"
    }
   },
   "outputs": [
    {
     "name": "stdout",
     "output_type": "stream",
     "text": [
      "['Loves Me', 'Loves Me Not', 'Loves Me', 'Loves Me Not', 'Loves Me', 'Loves Me Not', 'Loves Me', 'LOVES ME NOT']\n"
     ]
    }
   ],
   "source": [
    "\n",
    "sayi = int(input(\"sayi giriniz...: \"))\n",
    "\n",
    "st_1 = \"Loves Me\"\n",
    "st_2 = \"Loves Me Not\"\n",
    "lis = []\n",
    "\n",
    "empty_lis = []\n",
    "\n",
    "lis.append(st_1)\n",
    "lis.append(st_2)\n",
    "#print(lis)\n",
    "\n",
    "for i in range(sayi):\n",
    "    empty_lis.append(lis[i % 2])\n",
    "\n",
    "for i in empty_lis:\n",
    "    if i == empty_lis[-1]:\n",
    "        empty_lis[-1]=(empty_lis[-1]).upper()\n",
    "                        \n",
    "\n",
    "\n",
    "print(empty_lis)\n",
    "\n",
    "\n"
   ]
  },
  {
   "cell_type": "markdown",
   "id": "f75b8f0f",
   "metadata": {},
   "source": [
    "8 - Write a function that sorts the odd numbers in ascending order that leaves the even numbers in their original positions in a given string of numbers.\n",
    "\n",
    "Example:\n",
    "\n",
    "[7, 1] => [1, 7]\n",
    "\n",
    "[5, 8, 6, 3, 4] => [3, 8, 6, 5, 4]\n",
    "\n",
    "[9, 8, 7, 6, 5, 4, 3, 2, 1, 0] => [1, 8, 3, 6, 5, 4, 7, 2, 9, 0]"
   ]
  },
  {
   "cell_type": "code",
   "execution_count": 46,
   "id": "9d37421c",
   "metadata": {
    "ExecuteTime": {
     "end_time": "2023-11-04T23:59:21.824667Z",
     "start_time": "2023-11-04T23:59:21.819458Z"
    }
   },
   "outputs": [
    {
     "name": "stdout",
     "output_type": "stream",
     "text": [
      "[0, 1, 2, 3, 4, 5, 6, 7, 8, 9]\n"
     ]
    }
   ],
   "source": [
    "lis = [9,8,7,6,5,4,3,2,1,0]\n",
    "lis2 =[]\n",
    "\n",
    "#lis.sort()\n",
    "\n",
    "\n",
    "for i in range(len(lis)):\n",
    "    for j in range(0, len(lis)-i-1):\n",
    "        if lis[j] > lis[j+1]:\n",
    "            lis[j], lis[j+1] = lis[j+1], lis[j]\n",
    "\n",
    "print(\"devamını  yapamadım\")\n",
    "            \n",
    "            \n",
    "   \n",
    "\n",
    "print(lis)"
   ]
  },
  {
   "cell_type": "markdown",
   "id": "0de6ca91",
   "metadata": {},
   "source": [
    "9 - bir fonksiyon yazın. İçerisine girilen string ifadenin her seferinde sırayla bir harfini büyük yazdırsın. Sonuç olarak liste döndürsün. Punctuation lar işleme dahil edilmemelidir.\n",
    "\n",
    "Example:\n",
    "input >> ankara\n",
    "\n",
    "output >> ['Ankara', 'aNkara', 'anKara', 'ankAra', 'ankaRa', 'ankarA']"
   ]
  },
  {
   "cell_type": "code",
   "execution_count": 47,
   "id": "9c0eb1c8",
   "metadata": {
    "ExecuteTime": {
     "end_time": "2023-11-05T00:03:25.905355Z",
     "start_time": "2023-11-05T00:03:24.840196Z"
    }
   },
   "outputs": [
    {
     "name": "stdout",
     "output_type": "stream",
     "text": [
      "angara\n",
      "['Angara', 'aNgara', 'anGara', 'angAra', 'angaRa', 'angarA']\n"
     ]
    }
   ],
   "source": [
    "ifade = \"angara\"\n",
    "\n",
    "lis = []\n",
    "#ifade.append()\n",
    "for i in range(len(ifade)):\n",
    "    temp = ifade[i]\n",
    "    temp = temp.upper()\n",
    "    lis.append( ifade[:i] + temp + ifade[i+1:])\n",
    "    \n",
    "    \n",
    "\n",
    "print(ifade)\n",
    "print(lis)\n",
    "    "
   ]
  },
  {
   "cell_type": "markdown",
   "id": "3ecf0ab9",
   "metadata": {},
   "source": [
    "10 - Write a function scramble(str1, str2) that returns true if some of the str 1 characters can be rearranged to match str 2, false otherwise\n",
    "#Note >> Only lower case letters will be used (a-z). No punctuation or digits will be included.\n",
    "\n",
    "#Examples\n",
    "#scramble('rkqodlw', 'world') ==> True\n",
    "#scramble('katas', 'steak') ==> False"
   ]
  },
  {
   "cell_type": "code",
   "execution_count": 15,
   "id": "0d3f0772",
   "metadata": {},
   "outputs": [
    {
     "name": "stdout",
     "output_type": "stream",
     "text": [
      "hatali giriş yaptınız.\n"
     ]
    }
   ],
   "source": [
    "def scramble():\n",
    "    \n",
    "    while True:\n",
    "       \n",
    "        evet = 1\n",
    "\n",
    "        noktalama = \".,:;?!\"\n",
    "        \n",
    "        str_1 = input(\"txt_gir\").lower()\n",
    "        str_2 = input(\"txt_gir\").lower()\n",
    "        \n",
    "\n",
    "        sayac = 0\n",
    "\n",
    "        \n",
    "\n",
    "        for i in noktalama:\n",
    "            \n",
    "            if  i  not in str_1 and i  not in str_2 :\n",
    "                \n",
    "                for j in str_1:\n",
    "\n",
    "                    if j in str_2:\n",
    "                        sayac += 1\n",
    "\n",
    "                        if (sayac == len(str_2)):\n",
    "                            print (True)\n",
    "                            break\n",
    "                        continue\n",
    "                        \n",
    "\n",
    "                    else:\n",
    "                        print (False)\n",
    "                        break\n",
    "                \n",
    "            else:\n",
    "                evet = 0\n",
    "                break\n",
    "            \n",
    "            break\n",
    "\n",
    "        if evet == 0:\n",
    "            print (\"hatali giriş yaptınız.\")\n",
    "            break\n",
    "            \n",
    "        break\n",
    "\n",
    "\n",
    "scramble()\n",
    "\n",
    "\n",
    "        \n",
    "\n",
    "\n",
    "\n"
   ]
  },
  {
   "cell_type": "markdown",
   "id": "c0900727",
   "metadata": {},
   "source": [
    "11 - 1 den 100 e kadar olan sayılardaki asal sayıları bulun. \n",
    "\n",
    "Output >>> [2, 3, 5, 7, 11, 13, 17, 19, 23, 29, 31, 37, 41, 43, 47, 53, 59, 61, 67, 71, 73, 79, 83, 89, 97]"
   ]
  },
  {
   "cell_type": "code",
   "execution_count": 51,
   "id": "5b6cc46c",
   "metadata": {
    "ExecuteTime": {
     "end_time": "2023-11-05T00:22:53.477410Z",
     "start_time": "2023-11-05T00:22:53.473497Z"
    }
   },
   "outputs": [
    {
     "name": "stdout",
     "output_type": "stream",
     "text": [
      "[2, 2, 4, 6, 10, 12, 16, 18, 22, 28, 30, 36, 40, 42, 46, 52, 58, 60, 66, 70, 72, 78, 82, 88, 96]\n"
     ]
    }
   ],
   "source": [
    "lis = []\n",
    "for sayi in range(1, 101):  \n",
    "   if sayi > 1:  \n",
    "       for i in range(2,sayi):  \n",
    "           if (sayi % i) == 0:  \n",
    "               break  \n",
    "       else:  \n",
    "            lis.append(i)\n",
    "        #   print(sayi)  \n",
    "print(lis)        "
   ]
  }
 ],
 "metadata": {
  "kernelspec": {
   "display_name": "Python 3 (ipykernel)",
   "language": "python",
   "name": "python3"
  },
  "language_info": {
   "codemirror_mode": {
    "name": "ipython",
    "version": 3
   },
   "file_extension": ".py",
   "mimetype": "text/x-python",
   "name": "python",
   "nbconvert_exporter": "python",
   "pygments_lexer": "ipython3",
   "version": "3.11.6"
  }
 },
 "nbformat": 4,
 "nbformat_minor": 5
}
