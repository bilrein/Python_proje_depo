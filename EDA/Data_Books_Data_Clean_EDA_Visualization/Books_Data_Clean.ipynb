{
 "cells": [
  {
   "cell_type": "code",
   "execution_count": 1,
   "id": "e82809e5",
   "metadata": {
    "ExecuteTime": {
     "end_time": "2023-12-16T20:59:56.446719Z",
     "start_time": "2023-12-16T20:59:51.883018Z"
    }
   },
   "outputs": [],
   "source": [
    "import numpy as np\n",
    "import pandas as pd\n"
   ]
  },
  {
   "cell_type": "code",
   "execution_count": 2,
   "id": "b8aa1a9c",
   "metadata": {},
   "outputs": [
    {
     "data": {
      "text/html": [
       "<div>\n",
       "<style scoped>\n",
       "    .dataframe tbody tr th:only-of-type {\n",
       "        vertical-align: middle;\n",
       "    }\n",
       "\n",
       "    .dataframe tbody tr th {\n",
       "        vertical-align: top;\n",
       "    }\n",
       "\n",
       "    .dataframe thead th {\n",
       "        text-align: right;\n",
       "    }\n",
       "</style>\n",
       "<table border=\"1\" class=\"dataframe\">\n",
       "  <thead>\n",
       "    <tr style=\"text-align: right;\">\n",
       "      <th></th>\n",
       "      <th>index</th>\n",
       "      <th>Publishing Year</th>\n",
       "      <th>Book Name</th>\n",
       "      <th>Author</th>\n",
       "      <th>language_code</th>\n",
       "      <th>Author_Rating</th>\n",
       "      <th>Book_average_rating</th>\n",
       "      <th>Book_ratings_count</th>\n",
       "      <th>genre</th>\n",
       "      <th>gross sales</th>\n",
       "      <th>publisher revenue</th>\n",
       "      <th>sale price</th>\n",
       "      <th>sales rank</th>\n",
       "      <th>Publisher</th>\n",
       "      <th>units sold</th>\n",
       "    </tr>\n",
       "  </thead>\n",
       "  <tbody>\n",
       "    <tr>\n",
       "      <th>730</th>\n",
       "      <td>730</td>\n",
       "      <td>1987.0</td>\n",
       "      <td>Eyes of the Dragon</td>\n",
       "      <td>Stephen King</td>\n",
       "      <td>eng</td>\n",
       "      <td>Intermediate</td>\n",
       "      <td>3.92</td>\n",
       "      <td>72714</td>\n",
       "      <td>nonfiction</td>\n",
       "      <td>700.83</td>\n",
       "      <td>420.498</td>\n",
       "      <td>5.99</td>\n",
       "      <td>837</td>\n",
       "      <td>HarperCollins Publishers</td>\n",
       "      <td>33264</td>\n",
       "    </tr>\n",
       "    <tr>\n",
       "      <th>838</th>\n",
       "      <td>838</td>\n",
       "      <td>1999.0</td>\n",
       "      <td>Bud, Not Buddy</td>\n",
       "      <td>Christopher Paul Curtis</td>\n",
       "      <td>eng</td>\n",
       "      <td>Intermediate</td>\n",
       "      <td>3.89</td>\n",
       "      <td>73000</td>\n",
       "      <td>genre fiction</td>\n",
       "      <td>431.66</td>\n",
       "      <td>258.996</td>\n",
       "      <td>3.82</td>\n",
       "      <td>980</td>\n",
       "      <td>Amazon Digital Services,  Inc.</td>\n",
       "      <td>2889</td>\n",
       "    </tr>\n",
       "  </tbody>\n",
       "</table>\n",
       "</div>"
      ],
      "text/plain": [
       "     index  Publishing Year           Book Name                   Author  \\\n",
       "730    730           1987.0  Eyes of the Dragon             Stephen King   \n",
       "838    838           1999.0      Bud, Not Buddy  Christopher Paul Curtis   \n",
       "\n",
       "    language_code Author_Rating  Book_average_rating  Book_ratings_count  \\\n",
       "730           eng  Intermediate                 3.92               72714   \n",
       "838           eng  Intermediate                 3.89               73000   \n",
       "\n",
       "             genre  gross sales  publisher revenue  sale price  sales rank  \\\n",
       "730     nonfiction       700.83            420.498        5.99         837   \n",
       "838  genre fiction       431.66            258.996        3.82         980   \n",
       "\n",
       "                         Publisher   units sold  \n",
       "730        HarperCollins Publishers       33264  \n",
       "838  Amazon Digital Services,  Inc.        2889  "
      ]
     },
     "execution_count": 2,
     "metadata": {},
     "output_type": "execute_result"
    }
   ],
   "source": [
    "\n",
    "df = pd.read_csv(\"Books_Data_Clean.csv\")\n",
    "df.sample(2)\n"
   ]
  },
  {
   "cell_type": "code",
   "execution_count": 3,
   "id": "58f8f41d",
   "metadata": {},
   "outputs": [
    {
     "data": {
      "text/html": [
       "<div>\n",
       "<style scoped>\n",
       "    .dataframe tbody tr th:only-of-type {\n",
       "        vertical-align: middle;\n",
       "    }\n",
       "\n",
       "    .dataframe tbody tr th {\n",
       "        vertical-align: top;\n",
       "    }\n",
       "\n",
       "    .dataframe thead th {\n",
       "        text-align: right;\n",
       "    }\n",
       "</style>\n",
       "<table border=\"1\" class=\"dataframe\">\n",
       "  <thead>\n",
       "    <tr style=\"text-align: right;\">\n",
       "      <th></th>\n",
       "      <th>index</th>\n",
       "      <th>Publishing Year</th>\n",
       "      <th>Book Name</th>\n",
       "      <th>Author</th>\n",
       "      <th>language_code</th>\n",
       "      <th>Author_Rating</th>\n",
       "      <th>Book_average_rating</th>\n",
       "      <th>Book_ratings_count</th>\n",
       "      <th>genre</th>\n",
       "      <th>gross sales</th>\n",
       "      <th>publisher revenue</th>\n",
       "      <th>sale price</th>\n",
       "      <th>sales rank</th>\n",
       "      <th>Publisher</th>\n",
       "      <th>units sold</th>\n",
       "    </tr>\n",
       "  </thead>\n",
       "  <tbody>\n",
       "    <tr>\n",
       "      <th>0</th>\n",
       "      <td>0</td>\n",
       "      <td>1975.0</td>\n",
       "      <td>Beowulf</td>\n",
       "      <td>Unknown, Seamus Heaney</td>\n",
       "      <td>en-US</td>\n",
       "      <td>Novice</td>\n",
       "      <td>3.42</td>\n",
       "      <td>155903</td>\n",
       "      <td>genre fiction</td>\n",
       "      <td>34160.0</td>\n",
       "      <td>20496.0</td>\n",
       "      <td>4.88</td>\n",
       "      <td>1</td>\n",
       "      <td>HarperCollins Publishers</td>\n",
       "      <td>7000</td>\n",
       "    </tr>\n",
       "    <tr>\n",
       "      <th>1</th>\n",
       "      <td>1</td>\n",
       "      <td>1987.0</td>\n",
       "      <td>Batman: Year One</td>\n",
       "      <td>Frank Miller, David Mazzucchelli, Richmond Lew...</td>\n",
       "      <td>eng</td>\n",
       "      <td>Intermediate</td>\n",
       "      <td>4.23</td>\n",
       "      <td>145267</td>\n",
       "      <td>genre fiction</td>\n",
       "      <td>12437.5</td>\n",
       "      <td>7462.5</td>\n",
       "      <td>1.99</td>\n",
       "      <td>2</td>\n",
       "      <td>HarperCollins Publishers</td>\n",
       "      <td>6250</td>\n",
       "    </tr>\n",
       "  </tbody>\n",
       "</table>\n",
       "</div>"
      ],
      "text/plain": [
       "   index  Publishing Year         Book Name  \\\n",
       "0      0           1975.0           Beowulf   \n",
       "1      1           1987.0  Batman: Year One   \n",
       "\n",
       "                                              Author language_code  \\\n",
       "0                             Unknown, Seamus Heaney         en-US   \n",
       "1  Frank Miller, David Mazzucchelli, Richmond Lew...           eng   \n",
       "\n",
       "  Author_Rating  Book_average_rating  Book_ratings_count          genre  \\\n",
       "0        Novice                 3.42              155903  genre fiction   \n",
       "1  Intermediate                 4.23              145267  genre fiction   \n",
       "\n",
       "   gross sales  publisher revenue  sale price  sales rank  \\\n",
       "0      34160.0            20496.0        4.88           1   \n",
       "1      12437.5             7462.5        1.99           2   \n",
       "\n",
       "                 Publisher   units sold  \n",
       "0  HarperCollins Publishers        7000  \n",
       "1  HarperCollins Publishers        6250  "
      ]
     },
     "execution_count": 3,
     "metadata": {},
     "output_type": "execute_result"
    }
   ],
   "source": [
    "df.head(2)"
   ]
  },
  {
   "cell_type": "code",
   "execution_count": 4,
   "id": "8dce7681",
   "metadata": {},
   "outputs": [
    {
     "name": "stdout",
     "output_type": "stream",
     "text": [
      "<class 'pandas.core.frame.DataFrame'>\n",
      "RangeIndex: 1070 entries, 0 to 1069\n",
      "Data columns (total 15 columns):\n",
      " #   Column               Non-Null Count  Dtype  \n",
      "---  ------               --------------  -----  \n",
      " 0   index                1070 non-null   int64  \n",
      " 1   Publishing Year      1069 non-null   float64\n",
      " 2   Book Name            1047 non-null   object \n",
      " 3   Author               1070 non-null   object \n",
      " 4   language_code        1017 non-null   object \n",
      " 5   Author_Rating        1070 non-null   object \n",
      " 6   Book_average_rating  1070 non-null   float64\n",
      " 7   Book_ratings_count   1070 non-null   int64  \n",
      " 8   genre                1070 non-null   object \n",
      " 9   gross sales          1070 non-null   float64\n",
      " 10  publisher revenue    1070 non-null   float64\n",
      " 11  sale price           1070 non-null   float64\n",
      " 12  sales rank           1070 non-null   int64  \n",
      " 13  Publisher            1070 non-null   object \n",
      " 14  units sold           1070 non-null   int64  \n",
      "dtypes: float64(5), int64(4), object(6)\n",
      "memory usage: 125.5+ KB\n"
     ]
    }
   ],
   "source": [
    "df.info()"
   ]
  },
  {
   "cell_type": "code",
   "execution_count": 5,
   "id": "011bc191",
   "metadata": {},
   "outputs": [],
   "source": [
    "df.columns = [\n",
    "    \"Sira\", \"Yayin Yili\", \"Kitap Adi\", \"Yazar\", \"Dil Kodu\", \n",
    "    \"Yazar Derecesi\", \"Kitap Ortalama Derecesi\", \"Kitap Derecelendirme Sayisi\",\n",
    "    \"Tür\", \"Brüt Satiş\", \"Yayinevi Geliri\", \"Satiş Fiyati\", \"Satiş Siralamasi\",\n",
    "    \"Yayinci\", \"Satilan Ürün Sayisi\"\n",
    "]"
   ]
  },
  {
   "cell_type": "code",
   "execution_count": 6,
   "id": "ec1d541a",
   "metadata": {},
   "outputs": [
    {
     "data": {
      "text/html": [
       "<div>\n",
       "<style scoped>\n",
       "    .dataframe tbody tr th:only-of-type {\n",
       "        vertical-align: middle;\n",
       "    }\n",
       "\n",
       "    .dataframe tbody tr th {\n",
       "        vertical-align: top;\n",
       "    }\n",
       "\n",
       "    .dataframe thead th {\n",
       "        text-align: right;\n",
       "    }\n",
       "</style>\n",
       "<table border=\"1\" class=\"dataframe\">\n",
       "  <thead>\n",
       "    <tr style=\"text-align: right;\">\n",
       "      <th></th>\n",
       "      <th>Sira</th>\n",
       "      <th>Yayin Yili</th>\n",
       "      <th>Kitap Adi</th>\n",
       "      <th>Yazar</th>\n",
       "      <th>Dil Kodu</th>\n",
       "      <th>Yazar Derecesi</th>\n",
       "      <th>Kitap Ortalama Derecesi</th>\n",
       "      <th>Kitap Derecelendirme Sayisi</th>\n",
       "      <th>Tür</th>\n",
       "      <th>Brüt Satiş</th>\n",
       "      <th>Yayinevi Geliri</th>\n",
       "      <th>Satiş Fiyati</th>\n",
       "      <th>Satiş Siralamasi</th>\n",
       "      <th>Yayinci</th>\n",
       "      <th>Satilan Ürün Sayisi</th>\n",
       "    </tr>\n",
       "  </thead>\n",
       "  <tbody>\n",
       "    <tr>\n",
       "      <th>0</th>\n",
       "      <td>0</td>\n",
       "      <td>1975.0</td>\n",
       "      <td>Beowulf</td>\n",
       "      <td>Unknown, Seamus Heaney</td>\n",
       "      <td>en-US</td>\n",
       "      <td>Novice</td>\n",
       "      <td>3.42</td>\n",
       "      <td>155903</td>\n",
       "      <td>genre fiction</td>\n",
       "      <td>34160.0</td>\n",
       "      <td>20496.0</td>\n",
       "      <td>4.88</td>\n",
       "      <td>1</td>\n",
       "      <td>HarperCollins Publishers</td>\n",
       "      <td>7000</td>\n",
       "    </tr>\n",
       "    <tr>\n",
       "      <th>1</th>\n",
       "      <td>1</td>\n",
       "      <td>1987.0</td>\n",
       "      <td>Batman: Year One</td>\n",
       "      <td>Frank Miller, David Mazzucchelli, Richmond Lew...</td>\n",
       "      <td>eng</td>\n",
       "      <td>Intermediate</td>\n",
       "      <td>4.23</td>\n",
       "      <td>145267</td>\n",
       "      <td>genre fiction</td>\n",
       "      <td>12437.5</td>\n",
       "      <td>7462.5</td>\n",
       "      <td>1.99</td>\n",
       "      <td>2</td>\n",
       "      <td>HarperCollins Publishers</td>\n",
       "      <td>6250</td>\n",
       "    </tr>\n",
       "    <tr>\n",
       "      <th>2</th>\n",
       "      <td>2</td>\n",
       "      <td>2015.0</td>\n",
       "      <td>Go Set a Watchman</td>\n",
       "      <td>Harper Lee</td>\n",
       "      <td>eng</td>\n",
       "      <td>Novice</td>\n",
       "      <td>3.31</td>\n",
       "      <td>138669</td>\n",
       "      <td>genre fiction</td>\n",
       "      <td>47795.0</td>\n",
       "      <td>28677.0</td>\n",
       "      <td>8.69</td>\n",
       "      <td>3</td>\n",
       "      <td>Amazon Digital Services,  Inc.</td>\n",
       "      <td>5500</td>\n",
       "    </tr>\n",
       "    <tr>\n",
       "      <th>3</th>\n",
       "      <td>3</td>\n",
       "      <td>2008.0</td>\n",
       "      <td>When You Are Engulfed in Flames</td>\n",
       "      <td>David Sedaris</td>\n",
       "      <td>en-US</td>\n",
       "      <td>Intermediate</td>\n",
       "      <td>4.04</td>\n",
       "      <td>150898</td>\n",
       "      <td>fiction</td>\n",
       "      <td>41250.0</td>\n",
       "      <td>24750.0</td>\n",
       "      <td>7.50</td>\n",
       "      <td>3</td>\n",
       "      <td>Hachette Book Group</td>\n",
       "      <td>5500</td>\n",
       "    </tr>\n",
       "    <tr>\n",
       "      <th>4</th>\n",
       "      <td>4</td>\n",
       "      <td>2011.0</td>\n",
       "      <td>Daughter of Smoke &amp; Bone</td>\n",
       "      <td>Laini Taylor</td>\n",
       "      <td>eng</td>\n",
       "      <td>Intermediate</td>\n",
       "      <td>4.04</td>\n",
       "      <td>198283</td>\n",
       "      <td>genre fiction</td>\n",
       "      <td>37952.5</td>\n",
       "      <td>22771.5</td>\n",
       "      <td>7.99</td>\n",
       "      <td>4</td>\n",
       "      <td>Penguin Group (USA) LLC</td>\n",
       "      <td>4750</td>\n",
       "    </tr>\n",
       "  </tbody>\n",
       "</table>\n",
       "</div>"
      ],
      "text/plain": [
       "   Sira  Yayin Yili                        Kitap Adi  \\\n",
       "0     0      1975.0                          Beowulf   \n",
       "1     1      1987.0                 Batman: Year One   \n",
       "2     2      2015.0                Go Set a Watchman   \n",
       "3     3      2008.0  When You Are Engulfed in Flames   \n",
       "4     4      2011.0         Daughter of Smoke & Bone   \n",
       "\n",
       "                                               Yazar Dil Kodu Yazar Derecesi  \\\n",
       "0                             Unknown, Seamus Heaney    en-US         Novice   \n",
       "1  Frank Miller, David Mazzucchelli, Richmond Lew...      eng   Intermediate   \n",
       "2                                         Harper Lee      eng         Novice   \n",
       "3                                      David Sedaris    en-US   Intermediate   \n",
       "4                                       Laini Taylor      eng   Intermediate   \n",
       "\n",
       "   Kitap Ortalama Derecesi  Kitap Derecelendirme Sayisi            Tür  \\\n",
       "0                     3.42                       155903  genre fiction   \n",
       "1                     4.23                       145267  genre fiction   \n",
       "2                     3.31                       138669  genre fiction   \n",
       "3                     4.04                       150898        fiction   \n",
       "4                     4.04                       198283  genre fiction   \n",
       "\n",
       "   Brüt Satiş  Yayinevi Geliri  Satiş Fiyati  Satiş Siralamasi  \\\n",
       "0     34160.0          20496.0          4.88                 1   \n",
       "1     12437.5           7462.5          1.99                 2   \n",
       "2     47795.0          28677.0          8.69                 3   \n",
       "3     41250.0          24750.0          7.50                 3   \n",
       "4     37952.5          22771.5          7.99                 4   \n",
       "\n",
       "                          Yayinci  Satilan Ürün Sayisi  \n",
       "0        HarperCollins Publishers                 7000  \n",
       "1        HarperCollins Publishers                 6250  \n",
       "2  Amazon Digital Services,  Inc.                 5500  \n",
       "3             Hachette Book Group                 5500  \n",
       "4         Penguin Group (USA) LLC                 4750  "
      ]
     },
     "execution_count": 6,
     "metadata": {},
     "output_type": "execute_result"
    }
   ],
   "source": [
    "df.head()"
   ]
  },
  {
   "cell_type": "code",
   "execution_count": 7,
   "id": "027dc315",
   "metadata": {},
   "outputs": [
    {
     "data": {
      "text/plain": [
       "(1070, 15)"
      ]
     },
     "execution_count": 7,
     "metadata": {},
     "output_type": "execute_result"
    }
   ],
   "source": [
    "#df nin Boyutu\n",
    "df.shape"
   ]
  },
  {
   "cell_type": "code",
   "execution_count": 8,
   "id": "79f2f5af",
   "metadata": {},
   "outputs": [
    {
     "data": {
      "text/html": [
       "<div>\n",
       "<style scoped>\n",
       "    .dataframe tbody tr th:only-of-type {\n",
       "        vertical-align: middle;\n",
       "    }\n",
       "\n",
       "    .dataframe tbody tr th {\n",
       "        vertical-align: top;\n",
       "    }\n",
       "\n",
       "    .dataframe thead th {\n",
       "        text-align: right;\n",
       "    }\n",
       "</style>\n",
       "<table border=\"1\" class=\"dataframe\">\n",
       "  <thead>\n",
       "    <tr style=\"text-align: right;\">\n",
       "      <th></th>\n",
       "      <th>count</th>\n",
       "      <th>mean</th>\n",
       "      <th>std</th>\n",
       "      <th>min</th>\n",
       "      <th>25%</th>\n",
       "      <th>50%</th>\n",
       "      <th>75%</th>\n",
       "      <th>max</th>\n",
       "    </tr>\n",
       "  </thead>\n",
       "  <tbody>\n",
       "    <tr>\n",
       "      <th>Sira</th>\n",
       "      <td>1070.0</td>\n",
       "      <td>534.500000</td>\n",
       "      <td>309.026698</td>\n",
       "      <td>0.00</td>\n",
       "      <td>267.250</td>\n",
       "      <td>534.500</td>\n",
       "      <td>801.7500</td>\n",
       "      <td>1069.00</td>\n",
       "    </tr>\n",
       "    <tr>\n",
       "      <th>Yayin Yili</th>\n",
       "      <td>1069.0</td>\n",
       "      <td>1971.377923</td>\n",
       "      <td>185.080257</td>\n",
       "      <td>-560.00</td>\n",
       "      <td>1985.000</td>\n",
       "      <td>2003.000</td>\n",
       "      <td>2010.0000</td>\n",
       "      <td>2016.00</td>\n",
       "    </tr>\n",
       "    <tr>\n",
       "      <th>Kitap Ortalama Derecesi</th>\n",
       "      <td>1070.0</td>\n",
       "      <td>4.007000</td>\n",
       "      <td>0.247244</td>\n",
       "      <td>2.97</td>\n",
       "      <td>3.850</td>\n",
       "      <td>4.015</td>\n",
       "      <td>4.1700</td>\n",
       "      <td>4.77</td>\n",
       "    </tr>\n",
       "    <tr>\n",
       "      <th>Kitap Derecelendirme Sayisi</th>\n",
       "      <td>1070.0</td>\n",
       "      <td>94909.913084</td>\n",
       "      <td>31513.242518</td>\n",
       "      <td>27308.00</td>\n",
       "      <td>70398.000</td>\n",
       "      <td>89309.000</td>\n",
       "      <td>113906.5000</td>\n",
       "      <td>206792.00</td>\n",
       "    </tr>\n",
       "    <tr>\n",
       "      <th>Brüt Satiş</th>\n",
       "      <td>1070.0</td>\n",
       "      <td>1856.622944</td>\n",
       "      <td>3936.924240</td>\n",
       "      <td>104.94</td>\n",
       "      <td>372.465</td>\n",
       "      <td>809.745</td>\n",
       "      <td>1487.9575</td>\n",
       "      <td>47795.00</td>\n",
       "    </tr>\n",
       "    <tr>\n",
       "      <th>Yayinevi Geliri</th>\n",
       "      <td>1070.0</td>\n",
       "      <td>843.281030</td>\n",
       "      <td>2257.596743</td>\n",
       "      <td>0.00</td>\n",
       "      <td>0.000</td>\n",
       "      <td>273.078</td>\n",
       "      <td>721.1805</td>\n",
       "      <td>28677.00</td>\n",
       "    </tr>\n",
       "    <tr>\n",
       "      <th>Satiş Fiyati</th>\n",
       "      <td>1070.0</td>\n",
       "      <td>4.869561</td>\n",
       "      <td>3.559919</td>\n",
       "      <td>0.99</td>\n",
       "      <td>1.990</td>\n",
       "      <td>3.990</td>\n",
       "      <td>6.9900</td>\n",
       "      <td>33.86</td>\n",
       "    </tr>\n",
       "    <tr>\n",
       "      <th>Satiş Siralamasi</th>\n",
       "      <td>1070.0</td>\n",
       "      <td>611.652336</td>\n",
       "      <td>369.849830</td>\n",
       "      <td>1.00</td>\n",
       "      <td>287.500</td>\n",
       "      <td>595.500</td>\n",
       "      <td>932.5000</td>\n",
       "      <td>1273.00</td>\n",
       "    </tr>\n",
       "    <tr>\n",
       "      <th>Satilan Ürün Sayisi</th>\n",
       "      <td>1070.0</td>\n",
       "      <td>9676.980374</td>\n",
       "      <td>15370.571306</td>\n",
       "      <td>106.00</td>\n",
       "      <td>551.250</td>\n",
       "      <td>3924.000</td>\n",
       "      <td>5312.2500</td>\n",
       "      <td>61560.00</td>\n",
       "    </tr>\n",
       "  </tbody>\n",
       "</table>\n",
       "</div>"
      ],
      "text/plain": [
       "                              count          mean           std       min  \\\n",
       "Sira                         1070.0    534.500000    309.026698      0.00   \n",
       "Yayin Yili                   1069.0   1971.377923    185.080257   -560.00   \n",
       "Kitap Ortalama Derecesi      1070.0      4.007000      0.247244      2.97   \n",
       "Kitap Derecelendirme Sayisi  1070.0  94909.913084  31513.242518  27308.00   \n",
       "Brüt Satiş                   1070.0   1856.622944   3936.924240    104.94   \n",
       "Yayinevi Geliri              1070.0    843.281030   2257.596743      0.00   \n",
       "Satiş Fiyati                 1070.0      4.869561      3.559919      0.99   \n",
       "Satiş Siralamasi             1070.0    611.652336    369.849830      1.00   \n",
       "Satilan Ürün Sayisi          1070.0   9676.980374  15370.571306    106.00   \n",
       "\n",
       "                                   25%        50%          75%        max  \n",
       "Sira                           267.250    534.500     801.7500    1069.00  \n",
       "Yayin Yili                    1985.000   2003.000    2010.0000    2016.00  \n",
       "Kitap Ortalama Derecesi          3.850      4.015       4.1700       4.77  \n",
       "Kitap Derecelendirme Sayisi  70398.000  89309.000  113906.5000  206792.00  \n",
       "Brüt Satiş                     372.465    809.745    1487.9575   47795.00  \n",
       "Yayinevi Geliri                  0.000    273.078     721.1805   28677.00  \n",
       "Satiş Fiyati                     1.990      3.990       6.9900      33.86  \n",
       "Satiş Siralamasi               287.500    595.500     932.5000    1273.00  \n",
       "Satilan Ürün Sayisi            551.250   3924.000    5312.2500   61560.00  "
      ]
     },
     "execution_count": 8,
     "metadata": {},
     "output_type": "execute_result"
    }
   ],
   "source": [
    "df.describe().T"
   ]
  },
  {
   "cell_type": "code",
   "execution_count": 9,
   "id": "74ad9e20",
   "metadata": {},
   "outputs": [
    {
     "data": {
      "text/plain": [
       "0"
      ]
     },
     "execution_count": 9,
     "metadata": {},
     "output_type": "execute_result"
    }
   ],
   "source": [
    "df.duplicated().sum()"
   ]
  },
  {
   "cell_type": "code",
   "execution_count": 10,
   "id": "825ab5cf",
   "metadata": {},
   "outputs": [
    {
     "data": {
      "text/plain": [
       "Sira                            0\n",
       "Yayin Yili                      1\n",
       "Kitap Adi                      23\n",
       "Yazar                           0\n",
       "Dil Kodu                       53\n",
       "Yazar Derecesi                  0\n",
       "Kitap Ortalama Derecesi         0\n",
       "Kitap Derecelendirme Sayisi     0\n",
       "Tür                             0\n",
       "Brüt Satiş                      0\n",
       "Yayinevi Geliri                 0\n",
       "Satiş Fiyati                    0\n",
       "Satiş Siralamasi                0\n",
       "Yayinci                         0\n",
       "Satilan Ürün Sayisi             0\n",
       "dtype: int64"
      ]
     },
     "execution_count": 10,
     "metadata": {},
     "output_type": "execute_result"
    }
   ],
   "source": [
    "df.isnull().sum()\n"
   ]
  },
  {
   "cell_type": "code",
   "execution_count": 11,
   "id": "bf89a604",
   "metadata": {},
   "outputs": [
    {
     "data": {
      "text/plain": [
       "Yayin Yili     1\n",
       "Kitap Adi     23\n",
       "Dil Kodu      53\n",
       "dtype: int64"
      ]
     },
     "execution_count": 11,
     "metadata": {},
     "output_type": "execute_result"
    }
   ],
   "source": [
    "df.isnull().sum()[df.isnull().sum()>0]\n"
   ]
  },
  {
   "cell_type": "code",
   "execution_count": 12,
   "id": "13400d15",
   "metadata": {},
   "outputs": [
    {
     "data": {
      "text/plain": [
       "Yayin Yili\n",
       "2012.0    68\n",
       "2011.0    55\n",
       "2009.0    46\n",
       "2010.0    44\n",
       "2006.0    41\n",
       "          ..\n",
       "1916.0     1\n",
       "1320.0     1\n",
       "1667.0     1\n",
       "1964.0     1\n",
       "1879.0     1\n",
       "Name: count, Length: 150, dtype: int64"
      ]
     },
     "execution_count": 12,
     "metadata": {},
     "output_type": "execute_result"
    }
   ],
   "source": [
    "df[\"Yayin Yili\"].value_counts()"
   ]
  },
  {
   "cell_type": "code",
   "execution_count": 13,
   "id": "a561addd",
   "metadata": {},
   "outputs": [
    {
     "data": {
      "text/plain": [
       "150"
      ]
     },
     "execution_count": 13,
     "metadata": {},
     "output_type": "execute_result"
    }
   ],
   "source": [
    "#150 tane benzersiz değer var yani nunique() değer var \n",
    "df[\"Yayin Yili\"].nunique()"
   ]
  },
  {
   "cell_type": "code",
   "execution_count": 14,
   "id": "c9d906b7",
   "metadata": {},
   "outputs": [
    {
     "data": {
      "text/plain": [
       "1"
      ]
     },
     "execution_count": 14,
     "metadata": {},
     "output_type": "execute_result"
    }
   ],
   "source": [
    "df[\"Yayin Yili\"].isnull().sum()"
   ]
  },
  {
   "cell_type": "code",
   "execution_count": 15,
   "id": "cb6a1930",
   "metadata": {},
   "outputs": [
    {
     "data": {
      "text/plain": [
       "array([1975., 1987., 2015., 2008., 2011., 1994., 2012., 1905., 2004.,\n",
       "       1954., 2010., 1935., 1922., 1974., 1897., 2006., 1948., 2013.,\n",
       "       2000., 1991., 1993., 1996., 1981., 1891., 1856., 1961., 2003.,\n",
       "       2007., 1986., 2005., 1995., 1998., 1999., 1759., 1983., 1960.,\n",
       "       1950., 1997., 2009., 2002., 1849., 1967., 1968., 1959., 1605.,\n",
       "       1980., 1901., 1953., 1970., 2014., 1977., 1925., 1902., 1982.,\n",
       "       1985., 1989., 1880., 1956., 1390., 1852., 1909., 2001., 1972.,\n",
       "       1958., 1979., 1920., 1934., 1939., 1937., 1932., 1869., 1984.,\n",
       "       1872., 1603., 1949., 1929., 1992., 1947., 1971., 1976., 1988.,\n",
       "       1952., 1965., 1894., 1599., -380., 1593., 1831., 1899., 1812.,\n",
       "       1623., 1854., -430., 1908., 1596., 2016., 1990., 1601., 1978.,\n",
       "       1945., 1941., 1906., 1930., 1955., 1973., 1938., 1931., 1916.,\n",
       "       1871., 1864., 1962.,   nan, 1320., 1667., 1927., 1964., 1868.,\n",
       "       1859., 1847., 1874., 1918., -300., 1969., 1835., 1915., 1883.,\n",
       "       -560., 1914., 1308., 1881., 1966., 1933.,  -17., 1942., 1830.,\n",
       "       1886., 1678., 1940., 1926., 1848., 1826., 1912., 1963., 1853.,\n",
       "       1890., -441., 1928., 1896., 1957., 1911., 1879.])"
      ]
     },
     "execution_count": 15,
     "metadata": {},
     "output_type": "execute_result"
    }
   ],
   "source": [
    "df[\"Yayin Yili\"].unique()\n"
   ]
  },
  {
   "cell_type": "code",
   "execution_count": 16,
   "id": "7d1fcfe8",
   "metadata": {},
   "outputs": [],
   "source": [
    "df[\"Yayin Yili\"] = np.where(df[\"Yayin Yili\"] < 0, np.nan, df[\"Yayin Yili\"])\n",
    "#negetif yıl değerlerini null değerlerle doldurdum\n"
   ]
  },
  {
   "cell_type": "code",
   "execution_count": 17,
   "id": "025fd735",
   "metadata": {},
   "outputs": [
    {
     "data": {
      "text/plain": [
       "array([1975., 1987., 2015., 2008., 2011., 1994., 2012., 1905., 2004.,\n",
       "       1954., 2010., 1935., 1922., 1974., 1897., 2006., 1948., 2013.,\n",
       "       2000., 1991., 1993., 1996., 1981., 1891., 1856., 1961., 2003.,\n",
       "       2007., 1986., 2005., 1995., 1998., 1999., 1759., 1983., 1960.,\n",
       "       1950., 1997., 2009., 2002., 1849., 1967., 1968., 1959., 1605.,\n",
       "       1980., 1901., 1953., 1970., 2014., 1977., 1925., 1902., 1982.,\n",
       "       1985., 1989., 1880., 1956., 1390., 1852., 1909., 2001., 1972.,\n",
       "       1958., 1979., 1920., 1934., 1939., 1937., 1932., 1869., 1984.,\n",
       "       1872., 1603., 1949., 1929., 1992., 1947., 1971., 1976., 1988.,\n",
       "       1952., 1965., 1894., 1599.,   nan, 1593., 1831., 1899., 1812.,\n",
       "       1623., 1854., 1908., 1596., 2016., 1990., 1601., 1978., 1945.,\n",
       "       1941., 1906., 1930., 1955., 1973., 1938., 1931., 1916., 1871.,\n",
       "       1864., 1962., 1320., 1667., 1927., 1964., 1868., 1859., 1847.,\n",
       "       1874., 1918., 1969., 1835., 1915., 1883., 1914., 1308., 1881.,\n",
       "       1966., 1933., 1942., 1830., 1886., 1678., 1940., 1926., 1848.,\n",
       "       1826., 1912., 1963., 1853., 1890., 1928., 1896., 1957., 1911.,\n",
       "       1879.])"
      ]
     },
     "execution_count": 17,
     "metadata": {},
     "output_type": "execute_result"
    }
   ],
   "source": [
    "df[\"Yayin Yili\"].unique()"
   ]
  },
  {
   "cell_type": "code",
   "execution_count": 18,
   "id": "6da6891c",
   "metadata": {},
   "outputs": [
    {
     "data": {
      "text/plain": [
       "Yayin Yili     7\n",
       "Kitap Adi     23\n",
       "Dil Kodu      53\n",
       "dtype: int64"
      ]
     },
     "execution_count": 18,
     "metadata": {},
     "output_type": "execute_result"
    }
   ],
   "source": [
    "df.isnull().sum()[df.isnull().sum()>0]"
   ]
  },
  {
   "cell_type": "code",
   "execution_count": null,
   "id": "2c032ddd",
   "metadata": {},
   "outputs": [],
   "source": []
  },
  {
   "cell_type": "code",
   "execution_count": 19,
   "id": "37bd31e7",
   "metadata": {},
   "outputs": [
    {
     "data": {
      "text/plain": [
       "1"
      ]
     },
     "execution_count": 19,
     "metadata": {},
     "output_type": "execute_result"
    }
   ],
   "source": [
    "df[\"Yayin Yili\"].mode().count()\n",
    "#Hangi değerin en çok tekrar ettiğini bulmak istedim patladım"
   ]
  },
  {
   "cell_type": "code",
   "execution_count": 20,
   "id": "3d7d467a",
   "metadata": {},
   "outputs": [
    {
     "data": {
      "text/plain": [
       "Yayin Yili\n",
       "2012.0    68\n",
       "2011.0    55\n",
       "2009.0    46\n",
       "2010.0    44\n",
       "2006.0    41\n",
       "          ..\n",
       "1931.0     1\n",
       "1916.0     1\n",
       "1320.0     1\n",
       "1667.0     1\n",
       "1879.0     1\n",
       "Name: count, Length: 144, dtype: int64"
      ]
     },
     "execution_count": 20,
     "metadata": {},
     "output_type": "execute_result"
    }
   ],
   "source": [
    "df[\"Yayin Yili\"].value_counts()"
   ]
  },
  {
   "cell_type": "code",
   "execution_count": 21,
   "metadata": {},
   "outputs": [],
   "source": [
    "df[\"Yayin Yili\"].fillna(2012,inplace=True)"
   ]
  },
  {
   "cell_type": "code",
   "execution_count": 22,
   "id": "838e47e5",
   "metadata": {},
   "outputs": [
    {
     "data": {
      "text/plain": [
       "Kitap Adi    23\n",
       "Dil Kodu     53\n",
       "dtype: int64"
      ]
     },
     "execution_count": 22,
     "metadata": {},
     "output_type": "execute_result"
    }
   ],
   "source": [
    "df.isnull().sum()[df.isnull().sum()>0]\n"
   ]
  },
  {
   "cell_type": "code",
   "execution_count": 23,
   "id": "307ffc5c",
   "metadata": {},
   "outputs": [
    {
     "data": {
      "text/plain": [
       "array([1975., 1987., 2015., 2008., 2011., 1994., 2012., 1905., 2004.,\n",
       "       1954., 2010., 1935., 1922., 1974., 1897., 2006., 1948., 2013.,\n",
       "       2000., 1991., 1993., 1996., 1981., 1891., 1856., 1961., 2003.,\n",
       "       2007., 1986., 2005., 1995., 1998., 1999., 1759., 1983., 1960.,\n",
       "       1950., 1997., 2009., 2002., 1849., 1967., 1968., 1959., 1605.,\n",
       "       1980., 1901., 1953., 1970., 2014., 1977., 1925., 1902., 1982.,\n",
       "       1985., 1989., 1880., 1956., 1390., 1852., 1909., 2001., 1972.,\n",
       "       1958., 1979., 1920., 1934., 1939., 1937., 1932., 1869., 1984.,\n",
       "       1872., 1603., 1949., 1929., 1992., 1947., 1971., 1976., 1988.,\n",
       "       1952., 1965., 1894., 1599., 1593., 1831., 1899., 1812., 1623.,\n",
       "       1854., 1908., 1596., 2016., 1990., 1601., 1978., 1945., 1941.,\n",
       "       1906., 1930., 1955., 1973., 1938., 1931., 1916., 1871., 1864.,\n",
       "       1962., 1320., 1667., 1927., 1964., 1868., 1859., 1847., 1874.,\n",
       "       1918., 1969., 1835., 1915., 1883., 1914., 1308., 1881., 1966.,\n",
       "       1933., 1942., 1830., 1886., 1678., 1940., 1926., 1848., 1826.,\n",
       "       1912., 1963., 1853., 1890., 1928., 1896., 1957., 1911., 1879.])"
      ]
     },
     "execution_count": 23,
     "metadata": {},
     "output_type": "execute_result"
    }
   ],
   "source": [
    "df[\"Yayin Yili\"].unique()"
   ]
  },
  {
   "cell_type": "code",
   "execution_count": 24,
   "id": "04d72ef3",
   "metadata": {},
   "outputs": [
    {
     "data": {
      "text/plain": [
       "array(['en-US', 'eng', nan, 'spa', 'en-GB', 'fre', 'en-CA', 'nl', 'ara'],\n",
       "      dtype=object)"
      ]
     },
     "execution_count": 24,
     "metadata": {},
     "output_type": "execute_result"
    }
   ],
   "source": [
    "df[\"Dil Kodu\"].unique()\n"
   ]
  },
  {
   "cell_type": "code",
   "execution_count": 25,
   "id": "b30f01fd",
   "metadata": {},
   "outputs": [
    {
     "data": {
      "text/html": [
       "<div>\n",
       "<style scoped>\n",
       "    .dataframe tbody tr th:only-of-type {\n",
       "        vertical-align: middle;\n",
       "    }\n",
       "\n",
       "    .dataframe tbody tr th {\n",
       "        vertical-align: top;\n",
       "    }\n",
       "\n",
       "    .dataframe thead th {\n",
       "        text-align: right;\n",
       "    }\n",
       "</style>\n",
       "<table border=\"1\" class=\"dataframe\">\n",
       "  <thead>\n",
       "    <tr style=\"text-align: right;\">\n",
       "      <th></th>\n",
       "      <th>Sira</th>\n",
       "      <th>Yayin Yili</th>\n",
       "      <th>Kitap Adi</th>\n",
       "      <th>Yazar</th>\n",
       "      <th>Dil Kodu</th>\n",
       "      <th>Yazar Derecesi</th>\n",
       "      <th>Kitap Ortalama Derecesi</th>\n",
       "      <th>Kitap Derecelendirme Sayisi</th>\n",
       "      <th>Tür</th>\n",
       "      <th>Brüt Satiş</th>\n",
       "      <th>Yayinevi Geliri</th>\n",
       "      <th>Satiş Fiyati</th>\n",
       "      <th>Satiş Siralamasi</th>\n",
       "      <th>Yayinci</th>\n",
       "      <th>Satilan Ürün Sayisi</th>\n",
       "    </tr>\n",
       "  </thead>\n",
       "  <tbody>\n",
       "    <tr>\n",
       "      <th>0</th>\n",
       "      <td>0</td>\n",
       "      <td>1975.0</td>\n",
       "      <td>Beowulf</td>\n",
       "      <td>Unknown, Seamus Heaney</td>\n",
       "      <td>eng</td>\n",
       "      <td>Novice</td>\n",
       "      <td>3.42</td>\n",
       "      <td>155903</td>\n",
       "      <td>genre fiction</td>\n",
       "      <td>34160.00</td>\n",
       "      <td>20496.000</td>\n",
       "      <td>4.88</td>\n",
       "      <td>1</td>\n",
       "      <td>HarperCollins Publishers</td>\n",
       "      <td>7000</td>\n",
       "    </tr>\n",
       "    <tr>\n",
       "      <th>1</th>\n",
       "      <td>1</td>\n",
       "      <td>1987.0</td>\n",
       "      <td>Batman: Year One</td>\n",
       "      <td>Frank Miller, David Mazzucchelli, Richmond Lew...</td>\n",
       "      <td>eng</td>\n",
       "      <td>Intermediate</td>\n",
       "      <td>4.23</td>\n",
       "      <td>145267</td>\n",
       "      <td>genre fiction</td>\n",
       "      <td>12437.50</td>\n",
       "      <td>7462.500</td>\n",
       "      <td>1.99</td>\n",
       "      <td>2</td>\n",
       "      <td>HarperCollins Publishers</td>\n",
       "      <td>6250</td>\n",
       "    </tr>\n",
       "    <tr>\n",
       "      <th>2</th>\n",
       "      <td>2</td>\n",
       "      <td>2015.0</td>\n",
       "      <td>Go Set a Watchman</td>\n",
       "      <td>Harper Lee</td>\n",
       "      <td>eng</td>\n",
       "      <td>Novice</td>\n",
       "      <td>3.31</td>\n",
       "      <td>138669</td>\n",
       "      <td>genre fiction</td>\n",
       "      <td>47795.00</td>\n",
       "      <td>28677.000</td>\n",
       "      <td>8.69</td>\n",
       "      <td>3</td>\n",
       "      <td>Amazon Digital Services,  Inc.</td>\n",
       "      <td>5500</td>\n",
       "    </tr>\n",
       "    <tr>\n",
       "      <th>3</th>\n",
       "      <td>3</td>\n",
       "      <td>2008.0</td>\n",
       "      <td>When You Are Engulfed in Flames</td>\n",
       "      <td>David Sedaris</td>\n",
       "      <td>eng</td>\n",
       "      <td>Intermediate</td>\n",
       "      <td>4.04</td>\n",
       "      <td>150898</td>\n",
       "      <td>fiction</td>\n",
       "      <td>41250.00</td>\n",
       "      <td>24750.000</td>\n",
       "      <td>7.50</td>\n",
       "      <td>3</td>\n",
       "      <td>Hachette Book Group</td>\n",
       "      <td>5500</td>\n",
       "    </tr>\n",
       "    <tr>\n",
       "      <th>4</th>\n",
       "      <td>4</td>\n",
       "      <td>2011.0</td>\n",
       "      <td>Daughter of Smoke &amp; Bone</td>\n",
       "      <td>Laini Taylor</td>\n",
       "      <td>eng</td>\n",
       "      <td>Intermediate</td>\n",
       "      <td>4.04</td>\n",
       "      <td>198283</td>\n",
       "      <td>genre fiction</td>\n",
       "      <td>37952.50</td>\n",
       "      <td>22771.500</td>\n",
       "      <td>7.99</td>\n",
       "      <td>4</td>\n",
       "      <td>Penguin Group (USA) LLC</td>\n",
       "      <td>4750</td>\n",
       "    </tr>\n",
       "    <tr>\n",
       "      <th>...</th>\n",
       "      <td>...</td>\n",
       "      <td>...</td>\n",
       "      <td>...</td>\n",
       "      <td>...</td>\n",
       "      <td>...</td>\n",
       "      <td>...</td>\n",
       "      <td>...</td>\n",
       "      <td>...</td>\n",
       "      <td>...</td>\n",
       "      <td>...</td>\n",
       "      <td>...</td>\n",
       "      <td>...</td>\n",
       "      <td>...</td>\n",
       "      <td>...</td>\n",
       "      <td>...</td>\n",
       "    </tr>\n",
       "    <tr>\n",
       "      <th>1065</th>\n",
       "      <td>1065</td>\n",
       "      <td>2014.0</td>\n",
       "      <td>Gray Mountain</td>\n",
       "      <td>John Grisham</td>\n",
       "      <td>eng</td>\n",
       "      <td>Intermediate</td>\n",
       "      <td>3.52</td>\n",
       "      <td>37379</td>\n",
       "      <td>nonfiction</td>\n",
       "      <td>104.94</td>\n",
       "      <td>62.964</td>\n",
       "      <td>0.99</td>\n",
       "      <td>1268</td>\n",
       "      <td>Amazon Digital Services,  Inc.</td>\n",
       "      <td>106</td>\n",
       "    </tr>\n",
       "    <tr>\n",
       "      <th>1066</th>\n",
       "      <td>1066</td>\n",
       "      <td>1989.0</td>\n",
       "      <td>The Power of One</td>\n",
       "      <td>Bryce Courtenay</td>\n",
       "      <td>eng</td>\n",
       "      <td>Excellent</td>\n",
       "      <td>4.34</td>\n",
       "      <td>57312</td>\n",
       "      <td>genre fiction</td>\n",
       "      <td>846.94</td>\n",
       "      <td>508.164</td>\n",
       "      <td>7.99</td>\n",
       "      <td>1270</td>\n",
       "      <td>Random House LLC</td>\n",
       "      <td>106</td>\n",
       "    </tr>\n",
       "    <tr>\n",
       "      <th>1067</th>\n",
       "      <td>1067</td>\n",
       "      <td>1930.0</td>\n",
       "      <td>The Maltese Falcon</td>\n",
       "      <td>Dashiell Hammett</td>\n",
       "      <td>eng</td>\n",
       "      <td>Intermediate</td>\n",
       "      <td>3.92</td>\n",
       "      <td>58742</td>\n",
       "      <td>genre fiction</td>\n",
       "      <td>846.94</td>\n",
       "      <td>508.164</td>\n",
       "      <td>7.99</td>\n",
       "      <td>1271</td>\n",
       "      <td>Hachette Book Group</td>\n",
       "      <td>106</td>\n",
       "    </tr>\n",
       "    <tr>\n",
       "      <th>1068</th>\n",
       "      <td>1068</td>\n",
       "      <td>2011.0</td>\n",
       "      <td>Night Road</td>\n",
       "      <td>Kristin Hannah</td>\n",
       "      <td>eng</td>\n",
       "      <td>Excellent</td>\n",
       "      <td>4.17</td>\n",
       "      <td>58028</td>\n",
       "      <td>genre fiction</td>\n",
       "      <td>104.94</td>\n",
       "      <td>62.964</td>\n",
       "      <td>0.99</td>\n",
       "      <td>1272</td>\n",
       "      <td>Amazon Digital Services,  Inc.</td>\n",
       "      <td>106</td>\n",
       "    </tr>\n",
       "    <tr>\n",
       "      <th>1069</th>\n",
       "      <td>1069</td>\n",
       "      <td>1999.0</td>\n",
       "      <td>Tripwire</td>\n",
       "      <td>Lee Child</td>\n",
       "      <td>eng</td>\n",
       "      <td>Excellent</td>\n",
       "      <td>4.07</td>\n",
       "      <td>55251</td>\n",
       "      <td>genre fiction</td>\n",
       "      <td>316.94</td>\n",
       "      <td>0.000</td>\n",
       "      <td>2.99</td>\n",
       "      <td>1273</td>\n",
       "      <td>Amazon Digital Services,  Inc.</td>\n",
       "      <td>106</td>\n",
       "    </tr>\n",
       "  </tbody>\n",
       "</table>\n",
       "<p>1070 rows × 15 columns</p>\n",
       "</div>"
      ],
      "text/plain": [
       "      Sira  Yayin Yili                        Kitap Adi  \\\n",
       "0        0      1975.0                          Beowulf   \n",
       "1        1      1987.0                 Batman: Year One   \n",
       "2        2      2015.0                Go Set a Watchman   \n",
       "3        3      2008.0  When You Are Engulfed in Flames   \n",
       "4        4      2011.0         Daughter of Smoke & Bone   \n",
       "...    ...         ...                              ...   \n",
       "1065  1065      2014.0                    Gray Mountain   \n",
       "1066  1066      1989.0                 The Power of One   \n",
       "1067  1067      1930.0               The Maltese Falcon   \n",
       "1068  1068      2011.0                       Night Road   \n",
       "1069  1069      1999.0                         Tripwire   \n",
       "\n",
       "                                                  Yazar Dil Kodu  \\\n",
       "0                                Unknown, Seamus Heaney      eng   \n",
       "1     Frank Miller, David Mazzucchelli, Richmond Lew...      eng   \n",
       "2                                            Harper Lee      eng   \n",
       "3                                         David Sedaris      eng   \n",
       "4                                          Laini Taylor      eng   \n",
       "...                                                 ...      ...   \n",
       "1065                                       John Grisham      eng   \n",
       "1066                                    Bryce Courtenay      eng   \n",
       "1067                                   Dashiell Hammett      eng   \n",
       "1068                                     Kristin Hannah      eng   \n",
       "1069                                          Lee Child      eng   \n",
       "\n",
       "     Yazar Derecesi  Kitap Ortalama Derecesi  Kitap Derecelendirme Sayisi  \\\n",
       "0            Novice                     3.42                       155903   \n",
       "1      Intermediate                     4.23                       145267   \n",
       "2            Novice                     3.31                       138669   \n",
       "3      Intermediate                     4.04                       150898   \n",
       "4      Intermediate                     4.04                       198283   \n",
       "...             ...                      ...                          ...   \n",
       "1065   Intermediate                     3.52                        37379   \n",
       "1066      Excellent                     4.34                        57312   \n",
       "1067   Intermediate                     3.92                        58742   \n",
       "1068      Excellent                     4.17                        58028   \n",
       "1069      Excellent                     4.07                        55251   \n",
       "\n",
       "                Tür  Brüt Satiş  Yayinevi Geliri  Satiş Fiyati  \\\n",
       "0     genre fiction    34160.00        20496.000          4.88   \n",
       "1     genre fiction    12437.50         7462.500          1.99   \n",
       "2     genre fiction    47795.00        28677.000          8.69   \n",
       "3           fiction    41250.00        24750.000          7.50   \n",
       "4     genre fiction    37952.50        22771.500          7.99   \n",
       "...             ...         ...              ...           ...   \n",
       "1065     nonfiction      104.94           62.964          0.99   \n",
       "1066  genre fiction      846.94          508.164          7.99   \n",
       "1067  genre fiction      846.94          508.164          7.99   \n",
       "1068  genre fiction      104.94           62.964          0.99   \n",
       "1069  genre fiction      316.94            0.000          2.99   \n",
       "\n",
       "      Satiş Siralamasi                         Yayinci  Satilan Ürün Sayisi  \n",
       "0                    1        HarperCollins Publishers                 7000  \n",
       "1                    2        HarperCollins Publishers                 6250  \n",
       "2                    3  Amazon Digital Services,  Inc.                 5500  \n",
       "3                    3             Hachette Book Group                 5500  \n",
       "4                    4         Penguin Group (USA) LLC                 4750  \n",
       "...                ...                             ...                  ...  \n",
       "1065              1268  Amazon Digital Services,  Inc.                  106  \n",
       "1066              1270                Random House LLC                  106  \n",
       "1067              1271             Hachette Book Group                  106  \n",
       "1068              1272  Amazon Digital Services,  Inc.                  106  \n",
       "1069              1273  Amazon Digital Services,  Inc.                  106  \n",
       "\n",
       "[1070 rows x 15 columns]"
      ]
     },
     "execution_count": 25,
     "metadata": {},
     "output_type": "execute_result"
    }
   ],
   "source": [
    "df['Dil Kodu'] = df['Dil Kodu'].replace(['en-US', 'en-CA', 'en-GB'], 'eng')\n",
    "df"
   ]
  },
  {
   "cell_type": "code",
   "execution_count": 26,
   "id": "5ddc79f6",
   "metadata": {},
   "outputs": [
    {
     "data": {
      "text/plain": [
       "array(['eng', nan, 'spa', 'fre', 'nl', 'ara'], dtype=object)"
      ]
     },
     "execution_count": 26,
     "metadata": {},
     "output_type": "execute_result"
    }
   ],
   "source": [
    "df[\"Dil Kodu\"].unique()"
   ]
  },
  {
   "cell_type": "code",
   "execution_count": 27,
   "id": "504be26e",
   "metadata": {},
   "outputs": [],
   "source": [
    "df[\"Yayin Yili\"] = df[\"Yayin Yili\"].astype(int)\n",
    "#data type ı int e çevirdim"
   ]
  },
  {
   "cell_type": "code",
   "execution_count": 28,
   "id": "b65dfd57",
   "metadata": {},
   "outputs": [
    {
     "data": {
      "text/plain": [
       "array([1975, 1987, 2015, 2008, 2011, 1994, 2012, 1905, 2004, 1954, 2010,\n",
       "       1935, 1922, 1974, 1897, 2006, 1948, 2013, 2000, 1991, 1993, 1996,\n",
       "       1981, 1891, 1856, 1961, 2003, 2007, 1986, 2005, 1995, 1998, 1999,\n",
       "       1759, 1983, 1960, 1950, 1997, 2009, 2002, 1849, 1967, 1968, 1959,\n",
       "       1605, 1980, 1901, 1953, 1970, 2014, 1977, 1925, 1902, 1982, 1985,\n",
       "       1989, 1880, 1956, 1390, 1852, 1909, 2001, 1972, 1958, 1979, 1920,\n",
       "       1934, 1939, 1937, 1932, 1869, 1984, 1872, 1603, 1949, 1929, 1992,\n",
       "       1947, 1971, 1976, 1988, 1952, 1965, 1894, 1599, 1593, 1831, 1899,\n",
       "       1812, 1623, 1854, 1908, 1596, 2016, 1990, 1601, 1978, 1945, 1941,\n",
       "       1906, 1930, 1955, 1973, 1938, 1931, 1916, 1871, 1864, 1962, 1320,\n",
       "       1667, 1927, 1964, 1868, 1859, 1847, 1874, 1918, 1969, 1835, 1915,\n",
       "       1883, 1914, 1308, 1881, 1966, 1933, 1942, 1830, 1886, 1678, 1940,\n",
       "       1926, 1848, 1826, 1912, 1963, 1853, 1890, 1928, 1896, 1957, 1911,\n",
       "       1879])"
      ]
     },
     "execution_count": 28,
     "metadata": {},
     "output_type": "execute_result"
    }
   ],
   "source": [
    "df[\"Yayin Yili\"].unique()"
   ]
  },
  {
   "cell_type": "code",
   "execution_count": 29,
   "id": "babadcf9",
   "metadata": {},
   "outputs": [
    {
     "data": {
      "text/plain": [
       "Kitap Adi    23\n",
       "Dil Kodu     53\n",
       "dtype: int64"
      ]
     },
     "execution_count": 29,
     "metadata": {},
     "output_type": "execute_result"
    }
   ],
   "source": [
    "df.isnull().sum()[df.isnull().sum()>0]"
   ]
  },
  {
   "cell_type": "code",
   "execution_count": 30,
   "id": "a4ffd298",
   "metadata": {},
   "outputs": [],
   "source": [
    "df[\"Kitap Adi\"].fillna(\"Unknown\",inplace = True)"
   ]
  },
  {
   "cell_type": "code",
   "execution_count": 31,
   "id": "1b602e54",
   "metadata": {},
   "outputs": [
    {
     "data": {
      "text/plain": [
       "Dil Kodu    53\n",
       "dtype: int64"
      ]
     },
     "execution_count": 31,
     "metadata": {},
     "output_type": "execute_result"
    }
   ],
   "source": [
    "df.isnull().sum()[df.isnull().sum()>0]"
   ]
  },
  {
   "cell_type": "code",
   "execution_count": 32,
   "id": "7ea5a69f",
   "metadata": {},
   "outputs": [
    {
     "data": {
      "text/plain": [
       "Dil Kodu\n",
       "eng    1008\n",
       "fre       4\n",
       "spa       2\n",
       "ara       2\n",
       "nl        1\n",
       "Name: count, dtype: int64"
      ]
     },
     "execution_count": 32,
     "metadata": {},
     "output_type": "execute_result"
    }
   ],
   "source": [
    "df[\"Dil Kodu\"].value_counts()"
   ]
  },
  {
   "cell_type": "code",
   "execution_count": 33,
   "id": "047b56ea",
   "metadata": {},
   "outputs": [],
   "source": [
    "fre=df[\"Dil Kodu\"].mode()"
   ]
  },
  {
   "cell_type": "code",
   "execution_count": 34,
   "id": "3a97e89b",
   "metadata": {},
   "outputs": [],
   "source": [
    "df[\"Dil Kodu\"].fillna(\"eng\",inplace=True)"
   ]
  },
  {
   "cell_type": "code",
   "execution_count": 35,
   "id": "a4f8df7c",
   "metadata": {},
   "outputs": [
    {
     "data": {
      "text/plain": [
       "Sira                           0\n",
       "Yayin Yili                     0\n",
       "Kitap Adi                      0\n",
       "Yazar                          0\n",
       "Dil Kodu                       0\n",
       "Yazar Derecesi                 0\n",
       "Kitap Ortalama Derecesi        0\n",
       "Kitap Derecelendirme Sayisi    0\n",
       "Tür                            0\n",
       "Brüt Satiş                     0\n",
       "Yayinevi Geliri                0\n",
       "Satiş Fiyati                   0\n",
       "Satiş Siralamasi               0\n",
       "Yayinci                        0\n",
       "Satilan Ürün Sayisi            0\n",
       "dtype: int64"
      ]
     },
     "execution_count": 35,
     "metadata": {},
     "output_type": "execute_result"
    }
   ],
   "source": [
    "#df.isnull().sum()[df.isnull().sum()>0]\n",
    "df.isnull().sum()"
   ]
  },
  {
   "cell_type": "code",
   "execution_count": 36,
   "id": "b295533a",
   "metadata": {},
   "outputs": [
    {
     "data": {
      "text/plain": [
       "array([], dtype=int64)"
      ]
     },
     "execution_count": 36,
     "metadata": {},
     "output_type": "execute_result"
    }
   ],
   "source": [
    "df[df[\"Satilan Ürün Sayisi\"] < 0][\"Satilan Ürün Sayisi\"].unique()"
   ]
  },
  {
   "cell_type": "code",
   "execution_count": 37,
   "id": "af8ed732",
   "metadata": {},
   "outputs": [
    {
     "data": {
      "text/plain": [
       "array([ 4.88,  1.99,  8.69,  7.5 ,  7.99,  4.99,  6.99,  6.89,  6.49,\n",
       "        5.99,  0.99,  6.54,  3.99,  2.99, 10.91,  8.99, 10.65,  8.59,\n",
       "       11.39,  3.  ,  3.89,  3.79,  4.21,  4.54,  6.83,  5.12,  2.24,\n",
       "        6.5 ,  8.48, 11.99, 10.67,  7.51,  5.49, 11.84, 14.99,  2.  ,\n",
       "        5.95,  8.89,  6.01,  5.34,  4.26, 10.99, 11.47, 19.98,  8.97,\n",
       "        6.19,  4.13,  5.56,  2.5 ,  7.91, 11.19,  8.82,  8.49,  7.69,\n",
       "       33.86, 12.74,  1.5 ,  7.32, 12.99,  9.59,  3.75,  7.14,  6.57,\n",
       "        4.62,  6.15, 25.89,  6.47,  5.26,  5.69,  7.49, 17.98,  9.44,\n",
       "        9.99,  9.56,  8.39,  9.49,  5.38,  7.59,  6.98,  7.74,  7.66,\n",
       "       11.89,  6.94,  7.39,  9.02,  3.82,  7.19,  9.39,  4.29, 13.59,\n",
       "        7.58,  7.31,  1.  ,  4.38,  9.58,  7.73,  4.63,  7.52,  8.57,\n",
       "        4.59,  7.88,  9.01,  6.52,  2.48,  6.92, 11.49,  6.64,  5.55,\n",
       "        7.67,  6.59,  9.1 ,  3.03,  6.45, 14.24, 14.44, 10.  ,  9.27,\n",
       "        8.98,  6.76,  8.09, 11.04,  3.49,  7.41,  5.24,  6.55, 10.8 ,\n",
       "       12.29,  7.65, 11.75,  8.78,  8.1 ,  1.77,  5.74, 16.98,  4.49,\n",
       "        5.83,  4.74, 13.78,  6.48,  8.81, 15.37,  4.78,  1.29,  6.93,\n",
       "        4.95, 10.74,  4.5 , 12.59,  7.81])"
      ]
     },
     "execution_count": 37,
     "metadata": {},
     "output_type": "execute_result"
    }
   ],
   "source": [
    "df[\"Satiş Fiyati\"].unique()"
   ]
  },
  {
   "cell_type": "code",
   "execution_count": 38,
   "id": "50748f60",
   "metadata": {},
   "outputs": [
    {
     "data": {
      "text/plain": [
       "array([], dtype=float64)"
      ]
     },
     "execution_count": 38,
     "metadata": {},
     "output_type": "execute_result"
    }
   ],
   "source": [
    "df[df[\"Satiş Fiyati\"] < 0][\"Satiş Fiyati\"].unique()"
   ]
  },
  {
   "cell_type": "code",
   "execution_count": 39,
   "id": "92809cd6",
   "metadata": {},
   "outputs": [
    {
     "data": {
      "text/plain": [
       "array([], dtype=float64)"
      ]
     },
     "execution_count": 39,
     "metadata": {},
     "output_type": "execute_result"
    }
   ],
   "source": [
    "df[df[\"Yayinevi Geliri\"] < 0][\"Yayinevi Geliri\"].unique()\n"
   ]
  },
  {
   "cell_type": "code",
   "execution_count": 40,
   "id": "60c2c943",
   "metadata": {},
   "outputs": [
    {
     "data": {
      "text/plain": [
       "array([34160.  , 12437.5 , 47795.  , 41250.  , 37952.5 , 19960.  ,\n",
       "       27491.67, 26182.  , 26093.67, 23792.34, 17964.  , 21564.  ,\n",
       "        3431.34,  6897.34, 21797.82, 16297.34, 15968.  ,  6234.67,\n",
       "        3035.34, 11702.67,  8569.34,  2772.  ,  8171.67,  2639.34,\n",
       "        7774.  , 26904.06,  2376.  ,  9576.  ,  9308.67,  4509.34,\n",
       "        2178.  , 13178.  ,  2045.34, 17980.  ,  1964.16,  1949.31,\n",
       "       20309.55,  1873.08,  7485.24,  3703.39, 11057.54, 12791.7 ,\n",
       "        8982.  ,  3582.  ,  1766.16, 10596.31, 15058.27,  1720.62,\n",
       "        1705.77,  8517.93,  1675.08,  6687.24,  4966.39,  1629.54,\n",
       "       17783.3 ,  1613.7 , 18394.85, 10384.  ,  6320.16,  4707.  ,\n",
       "        1522.62,  5924.47, 12040.93, 13413.08,  2907.39, 11553.54,\n",
       "        5705.7 ,  9890.85,  5245.36,  5826.64,  2724.31,  5462.31,\n",
       "        6751.47,  6676.62,  1309.77,  5933.78,  8482.43,  6447.08,\n",
       "        2539.24,  4907.7 ,  1202.85,  2417.85,  1188.  ,  2388.  ,\n",
       "        2356.16,  1157.31,  1111.77,  5603.77,  2202.93,  6983.24,\n",
       "        6885.89,  1035.54,  1019.7 ,  6079.85,  6932.45,   985.05,\n",
       "        5068.8 ,  2195.2 ,  7312.5 ,   960.3 , 10224.  ,  7670.4 ,\n",
       "        1880.55,  4690.6 ,  3730.65,  1850.7 ,  5980.  ,   905.85,\n",
       "        7759.2 ,   900.9 ,   895.95,   891.  ,  5841.  , 10731.05,\n",
       "        2661.1 ,  1771.1 ,  3531.15,  6525.  ,  3451.35,  6871.4 ,\n",
       "         841.5 , 10131.55,  6711.6 ,   816.75,  1641.75,  5696.85,\n",
       "        2421.9 ,  8573.25,  3192.  ,   792.  ,  3172.05,  1572.1 ,\n",
       "        9412.15,  3112.2 ,  8269.25,  1512.4 ,  3012.45,  3742.5 ,\n",
       "        2992.5 ,  3717.55,  2952.6 ,   727.65,  3642.7 ,  5444.75,\n",
       "         712.8 ,   702.9 ,   697.95,  5593.  ,  1353.2 ,   668.25,\n",
       "        3678.3 ,   658.35,  7814.4 ,   648.45,  9818.45,  3243.5 ,\n",
       "        1943.5 ,  3218.55,  4473.6 ,  5663.7 ,   608.85,   603.9 ,\n",
       "        1210.  ,   594.  ,  3540.25,  3564.05,  1174.1 ,  5200.65,\n",
       "         569.25,  1134.3 ,  1659.45,  4434.45,   544.5 ,   534.6 ,\n",
       "        2154.6 ,  1599.65,   524.7 ,  1024.85,  1524.9 ,  2014.95,\n",
       "        5433.18,  1483.04,  2950.91,  2445.1 ,   483.12,  2605.92,\n",
       "        5269.53,  2057.58,   476.19,   475.2 ,  1429.22,  5253.22,\n",
       "        1423.24,  2375.24,   470.25,  1399.32,   461.34,  1393.34,\n",
       "         460.35,   455.4 ,  3643.44,  1815.45,  5000.45,  5195.91,\n",
       "         448.47,  2250.49,  4792.5 ,  4771.2 ,   443.52,  1324.57,\n",
       "        8811.18,  2175.64,   430.65,  5191.67,  2593.67,   426.69,\n",
       "         425.7 ,  5107.74,  3821.22,   420.75,  1687.77,  4473.  ,\n",
       "         413.82,   411.84,  2070.85,  2537.9 ,  1219.92,  1685.04,\n",
       "        2025.94,  2251.8 ,  1007.5 ,  4270.65,  3180.02,   392.04,\n",
       "         387.09,  2726.1 ,  1154.14,   766.15,  3060.17,   758.19,\n",
       "        3013.71,  1136.2 ,  1886.22,  1124.24,   371.25,  1871.25,\n",
       "        1488.27,  1115.27,   366.3 ,  2775.  ,  1100.32,  1094.34,\n",
       "        4388.34,  4084.35,  1811.37,  1085.37,   357.39,  1079.39,\n",
       "        3905.78,  1064.44,   706.45,  1049.49,   347.49,   346.5 ,\n",
       "         344.52,  1031.55,  1025.57,  1019.59,  3872.6 ,  1686.62,\n",
       "        1676.64,   666.65,  2620.72,  2875.32,  1300.74,  2759.25,\n",
       "        1611.77,  2468.49,   950.82,  1576.84,  2044.35,  1874.87,\n",
       "         307.89,   306.9 ,   616.9 ,  2460.92,  2152.92, 10327.3 ,\n",
       "         598.99,  1487.02,   891.02,  1181.04,   885.04,  1772.95,\n",
       "         292.05,   290.07,   288.09,  3694.6 ,  1149.12,  1707.15,\n",
       "         427.5 ,  2071.56,  1412.17,  3650.19,  1387.22,  1097.25,\n",
       "        2618.07,   267.3 ,   263.34,   997.5 ,  1719.85,  1877.82,\n",
       "        1041.39,   777.4 ,   771.42,  1527.45,   246.51,   744.51,\n",
       "        1635.93,  3221.52,   741.52,   738.53,  1141.14,   244.53,\n",
       "        1227.54,   977.55,  1698.57,   726.57,  1494.45,   965.58,\n",
       "        1202.59,  2566.65,  1197.6 ,   236.61,   953.61,  1544.62,\n",
       "        1419.63,   471.63,  1182.63,   708.63,  1885.64,  1642.65,\n",
       "         933.66,   463.67,   461.68,   925.68,  2460.15,   690.69,\n",
       "         687.7 ,  2509.3 ,   226.71,  1142.71,   909.72,  5902.92,\n",
       "        1468.69,   223.74,  1188.76,   897.75,   221.76,  1274.56,\n",
       "        1112.77,  1781.77,  1662.78,   660.79,   437.8 ,  3955.6 ,\n",
       "        2067.36,  1311.81,   433.82,  2177.82,  1864.03,   214.83,\n",
       "        2311.05,  1072.85,  1717.85,   642.85,  1281.86,   849.87,\n",
       "         423.87,  1062.87,  1693.88,  1080.32,   630.89,  2007.6 ,\n",
       "         833.91,   206.91,   621.92,   205.92,  1245.92,  1032.93,\n",
       "        2457.95,  1621.97,  1703.17,   603.98,   600.99,   198.99,\n",
       "         399.99,   500.  ,  1898.  ,   595.01,   196.02,   790.02,\n",
       "        1059.86,   194.04,   586.04,  1480.05,   583.05,   192.06,\n",
       "         191.07,   770.07,  1726.08,  1468.79,   948.1 ,   376.11,\n",
       "        1510.11,   565.11,   750.12,   186.12,   185.13,   746.13,\n",
       "         184.14,  1114.14,   553.15,   550.16,   181.17,   544.18,\n",
       "        1243.06,   903.19,  1726.2 ,   177.21,  2280.46,   176.22,\n",
       "         532.22,   354.22,  1242.44,   175.23,   350.24,   702.24,\n",
       "        1230.24,   523.25,   868.26,  1216.26,  1346.76,  1842.45,\n",
       "         344.27,   171.27,   517.27,   170.28,  1632.28,   340.29,\n",
       "        1024.29,  1879.29,  1109.79,   648.09,   508.3 ,   678.3 ,\n",
       "         848.3 ,  1688.31,  1350.31,   674.31,   167.31,  2153.06,\n",
       "        1294.54,  1843.79,  1342.32,   166.32,  1291.92,   332.33,\n",
       "         165.33,  1985.63,   833.33,  1835.33,  1152.04,   164.34,\n",
       "        1226.74,  1153.35,   823.35,   163.35,  1757.25,   162.36,\n",
       "        1746.6 ,   324.37,   813.37,  1470.26,   161.37,   322.38,\n",
       "         160.38,   320.39,   642.39,   615.02,   478.4 ,  1438.4 ,\n",
       "        1598.4 ,   475.41,   157.41,   634.41,   314.42,  1136.02,\n",
       "         472.42,  1420.42,   469.43,   155.43,  1474.23,   154.44,\n",
       "         778.44,   669.24,  2106.45,   618.45,  1230.46,   614.46,\n",
       "         460.46,   768.46,  1167.32,   610.47,   151.47,  1176.57,\n",
       "        1618.8 ,  1111.12,   910.48,   149.49,   151.  ,   661.38,\n",
       "        1508.49,  1125.  ,   598.5 ,   594.51,  1488.51,  1427.42,\n",
       "        1144.04,   146.52,   442.52,   145.53,  1997.73,   439.53,\n",
       "        1074.57,   675.98,   582.54,  1097.92,  1166.54,  1251.22,\n",
       "         144.54,   665.55,   723.55,   990.35,  1448.55,   868.55,\n",
       "        1134.72,   570.57,  1428.57,  1072.5 ,   708.58,  1560.58,\n",
       "         969.86,   562.59,   139.59,  1030.71,   558.6 ,   418.6 ,\n",
       "        1398.6 ,   698.6 ,   137.61,   693.61,   725.88,  1516.62,\n",
       "         957.72,  1094.63,   836.4 ,  1225.36,   542.64,   133.65,\n",
       "         538.65,   808.65,   873.68,  1191.26,   663.67,   530.67,\n",
       "         397.67,   394.68,   790.68,   526.68,   130.68,   327.36,\n",
       "         260.69,  1395.15,   129.69,   492.7 ,   258.7 ,  1656.2 ,\n",
       "         514.71,   127.71,   885.76,   888.32,  1470.72,   787.2 ,\n",
       "         126.72,  1153.28,   843.28,  1395.73,   125.73,   506.73,\n",
       "         502.74,   124.74,  1198.75,  1127.5 ,   122.76,   370.76,\n",
       "         121.77,   974.78,   120.78,  1096.78,   486.78,   966.79,\n",
       "         930.49,   119.79,   671.55,   118.8 ,   950.81,   117.81,\n",
       "         912.73,   355.81,   712.81,   236.81,   474.81,  1188.81,\n",
       "         593.81,   784.21,  1082.9 ,   915.11,   640.22,  1307.81,\n",
       "        1022.21,   357.54,   352.82,   116.82,   862.58,  1060.82,\n",
       "        1320.42,   761.1 ,   654.9 ,   824.82,   706.82,   502.68,\n",
       "        1131.62,   234.82,   588.82,  1680.32,  1128.08,   872.02,\n",
       "         470.82,   942.82,   725.7 ,   466.83,   934.83,   349.83,\n",
       "         115.83,   232.83,   855.27,  1519.83,   700.83,  1689.48,\n",
       "         583.83,  1170.  ,  1402.83,  1084.59,  1391.13,   799.11,\n",
       "         114.84,   624.08,   694.84,   892.04,   346.84,   462.84,\n",
       "        1158.84,   230.84,   770.24,   810.84,  1042.84,  1041.68,\n",
       "        1506.84,   784.16,   926.84,   458.85,  1367.35,   573.85,\n",
       "         343.85,  1033.85,  1263.85,   803.85,   930.35,   113.85,\n",
       "        1269.6 ,   884.35,   910.86,  1366.86,   340.86,   568.86,\n",
       "         112.86,   876.66,   226.86,   397.86,   454.86,   856.14,\n",
       "         345.42,   844.74,   228.  ,   597.36,   778.62,   746.7 ,\n",
       "        1220.4 ,   431.66,   902.87,   563.87,  1128.87,   450.87,\n",
       "        1241.87,   111.87,   169.5 ,  1388.77,   864.45,  1327.75,\n",
       "         781.96,   337.87,   970.67,  1015.87,   846.37,   789.87,\n",
       "         224.87,   992.14,   282.5 ,   110.88,   838.88,   334.88,\n",
       "         670.88,   894.88,   446.88,   842.24,  1326.08,   558.88,\n",
       "        1230.88,   222.88,   109.89,   331.89,  1330.89,   442.89,\n",
       "         220.89,   899.1 ,  1314.24,  1225.44,   196.47,   637.14,\n",
       "         858.03,  1219.89,  1414.14,   548.9 ,  1098.9 ,   108.9 ,\n",
       "         438.9 ,  1230.9 ,   218.9 ,  1351.9 ,  1208.9 ,   878.9 ,\n",
       "         328.9 ,   988.9 ,  1200.1 ,  1867.8 ,   416.9 ,   493.9 ,\n",
       "         641.3 ,  1088.91,   216.91,   434.91,  1160.85,   516.66,\n",
       "         107.91,   543.91,  1502.02,   325.91,   706.32,  1306.91,\n",
       "         960.29,   598.41,   620.21,   761.91,   538.92,   646.92,\n",
       "         970.92,   106.92,  1659.96,   412.56,   430.92,  1186.92,\n",
       "        1150.2 ,  1327.32,   322.92,   516.24,   214.92,   139.32,\n",
       "         748.44,  1078.92,   105.93,   854.93,   919.13,   426.93,\n",
       "        1272.23,   640.93,   408.74,   319.93,  1282.93,  1175.93,\n",
       "         405.53,   324.21,   747.93,   951.23,   529.65,   822.83,\n",
       "        1149.18,   104.94,   477.  ,  1588.94,   212.  ,   735.64,\n",
       "         846.94,  1334.54,   827.86,   589.36,   316.94,  1058.94,\n",
       "         740.94,   210.94,   815.14])"
      ]
     },
     "execution_count": 40,
     "metadata": {},
     "output_type": "execute_result"
    }
   ],
   "source": [
    "df[\"Brüt Satiş\"].unique()"
   ]
  },
  {
   "cell_type": "code",
   "execution_count": 41,
   "id": "a72e784d",
   "metadata": {},
   "outputs": [
    {
     "data": {
      "text/plain": [
       "array([], dtype=float64)"
      ]
     },
     "execution_count": 41,
     "metadata": {},
     "output_type": "execute_result"
    }
   ],
   "source": [
    "df[df[\"Brüt Satiş\"] < 0][\"Brüt Satiş\"].unique()"
   ]
  },
  {
   "cell_type": "code",
   "execution_count": 42,
   "id": "077f0eed",
   "metadata": {},
   "outputs": [
    {
     "data": {
      "text/plain": [
       "array([], dtype=int64)"
      ]
     },
     "execution_count": 42,
     "metadata": {},
     "output_type": "execute_result"
    }
   ],
   "source": [
    "df[df[\"Kitap Derecelendirme Sayisi\"]<0][\"Kitap Derecelendirme Sayisi\"].unique()"
   ]
  },
  {
   "cell_type": "code",
   "execution_count": 43,
   "id": "e8814554",
   "metadata": {},
   "outputs": [
    {
     "data": {
      "text/plain": [
       "array([3.42, 4.23, 3.31, 4.04, 4.08, 4.03, 3.9 , 4.34, 4.2 , 4.13, 4.42,\n",
       "       4.18, 4.29, 3.76, 3.8 , 4.28, 4.17, 3.74, 4.1 , 3.87, 4.38, 4.12,\n",
       "       3.65, 3.83, 3.77, 3.64, 4.22, 4.64, 4.14, 4.35, 3.7 , 4.07, 4.25,\n",
       "       3.94, 4.  , 3.52, 3.85, 3.72, 4.16, 4.3 , 3.95, 3.47, 3.79, 4.09,\n",
       "       4.11, 3.96, 4.32, 3.99, 3.56, 3.91, 3.89, 4.46, 4.48, 3.98, 3.97,\n",
       "       3.82, 3.92, 4.05, 3.69, 4.01, 3.93, 3.88, 4.02, 3.84, 3.48, 3.71,\n",
       "       3.73, 3.78, 3.81, 3.55, 4.26, 4.19, 4.27, 4.54, 4.06, 3.67, 4.31,\n",
       "       3.86, 3.66, 3.49, 4.51, 4.21, 4.24, 3.41, 3.51, 4.36, 4.33, 3.29,\n",
       "       4.49, 4.47, 4.5 , 3.62, 4.61, 3.63, 4.15, 3.46, 3.59, 4.37, 4.45,\n",
       "       3.75, 4.77, 3.57, 3.33, 3.6 , 4.59, 4.44, 3.68, 4.4 , 3.22, 3.54,\n",
       "       4.65, 4.53, 4.43, 4.41, 3.28, 3.45, 3.43, 4.39, 4.6 , 3.3 , 4.72,\n",
       "       3.5 , 3.37, 3.58, 2.97, 3.32, 3.39, 3.53, 3.23, 4.56, 3.21, 3.4 ,\n",
       "       3.1 , 3.35])"
      ]
     },
     "execution_count": 43,
     "metadata": {},
     "output_type": "execute_result"
    }
   ],
   "source": [
    "df[\"Kitap Ortalama Derecesi\"].unique()"
   ]
  },
  {
   "cell_type": "code",
   "execution_count": 44,
   "id": "6d3d498f",
   "metadata": {},
   "outputs": [
    {
     "data": {
      "text/plain": [
       "array(['Novice', 'Intermediate', 'Famous', 'Excellent'], dtype=object)"
      ]
     },
     "execution_count": 44,
     "metadata": {},
     "output_type": "execute_result"
    }
   ],
   "source": [
    "df[\"Yazar Derecesi\"].unique()"
   ]
  },
  {
   "cell_type": "code",
   "execution_count": 45,
   "id": "cc912c9f",
   "metadata": {},
   "outputs": [
    {
     "data": {
      "text/plain": [
       "array(['Novice', 'Intermediate', 'Famous', 'Excellent'], dtype=object)"
      ]
     },
     "execution_count": 45,
     "metadata": {},
     "output_type": "execute_result"
    }
   ],
   "source": [
    "df[\"Yazar Derecesi\"].unique()"
   ]
  },
  {
   "cell_type": "code",
   "execution_count": 46,
   "id": "24d744fb",
   "metadata": {},
   "outputs": [
    {
     "data": {
      "text/html": [
       "<div>\n",
       "<style scoped>\n",
       "    .dataframe tbody tr th:only-of-type {\n",
       "        vertical-align: middle;\n",
       "    }\n",
       "\n",
       "    .dataframe tbody tr th {\n",
       "        vertical-align: top;\n",
       "    }\n",
       "\n",
       "    .dataframe thead th {\n",
       "        text-align: right;\n",
       "    }\n",
       "</style>\n",
       "<table border=\"1\" class=\"dataframe\">\n",
       "  <thead>\n",
       "    <tr style=\"text-align: right;\">\n",
       "      <th></th>\n",
       "      <th>count</th>\n",
       "      <th>mean</th>\n",
       "      <th>std</th>\n",
       "      <th>min</th>\n",
       "      <th>25%</th>\n",
       "      <th>50%</th>\n",
       "      <th>75%</th>\n",
       "      <th>max</th>\n",
       "    </tr>\n",
       "  </thead>\n",
       "  <tbody>\n",
       "    <tr>\n",
       "      <th>Sira</th>\n",
       "      <td>1070.0</td>\n",
       "      <td>534.500000</td>\n",
       "      <td>309.026698</td>\n",
       "      <td>0.00</td>\n",
       "      <td>267.250</td>\n",
       "      <td>534.500</td>\n",
       "      <td>801.7500</td>\n",
       "      <td>1069.00</td>\n",
       "    </tr>\n",
       "    <tr>\n",
       "      <th>Yayin Yili</th>\n",
       "      <td>1070.0</td>\n",
       "      <td>1984.686916</td>\n",
       "      <td>59.387300</td>\n",
       "      <td>1308.00</td>\n",
       "      <td>1985.000</td>\n",
       "      <td>2003.000</td>\n",
       "      <td>2010.0000</td>\n",
       "      <td>2016.00</td>\n",
       "    </tr>\n",
       "    <tr>\n",
       "      <th>Kitap Ortalama Derecesi</th>\n",
       "      <td>1070.0</td>\n",
       "      <td>4.007000</td>\n",
       "      <td>0.247244</td>\n",
       "      <td>2.97</td>\n",
       "      <td>3.850</td>\n",
       "      <td>4.015</td>\n",
       "      <td>4.1700</td>\n",
       "      <td>4.77</td>\n",
       "    </tr>\n",
       "    <tr>\n",
       "      <th>Kitap Derecelendirme Sayisi</th>\n",
       "      <td>1070.0</td>\n",
       "      <td>94909.913084</td>\n",
       "      <td>31513.242518</td>\n",
       "      <td>27308.00</td>\n",
       "      <td>70398.000</td>\n",
       "      <td>89309.000</td>\n",
       "      <td>113906.5000</td>\n",
       "      <td>206792.00</td>\n",
       "    </tr>\n",
       "    <tr>\n",
       "      <th>Brüt Satiş</th>\n",
       "      <td>1070.0</td>\n",
       "      <td>1856.622944</td>\n",
       "      <td>3936.924240</td>\n",
       "      <td>104.94</td>\n",
       "      <td>372.465</td>\n",
       "      <td>809.745</td>\n",
       "      <td>1487.9575</td>\n",
       "      <td>47795.00</td>\n",
       "    </tr>\n",
       "    <tr>\n",
       "      <th>Yayinevi Geliri</th>\n",
       "      <td>1070.0</td>\n",
       "      <td>843.281030</td>\n",
       "      <td>2257.596743</td>\n",
       "      <td>0.00</td>\n",
       "      <td>0.000</td>\n",
       "      <td>273.078</td>\n",
       "      <td>721.1805</td>\n",
       "      <td>28677.00</td>\n",
       "    </tr>\n",
       "    <tr>\n",
       "      <th>Satiş Fiyati</th>\n",
       "      <td>1070.0</td>\n",
       "      <td>4.869561</td>\n",
       "      <td>3.559919</td>\n",
       "      <td>0.99</td>\n",
       "      <td>1.990</td>\n",
       "      <td>3.990</td>\n",
       "      <td>6.9900</td>\n",
       "      <td>33.86</td>\n",
       "    </tr>\n",
       "    <tr>\n",
       "      <th>Satiş Siralamasi</th>\n",
       "      <td>1070.0</td>\n",
       "      <td>611.652336</td>\n",
       "      <td>369.849830</td>\n",
       "      <td>1.00</td>\n",
       "      <td>287.500</td>\n",
       "      <td>595.500</td>\n",
       "      <td>932.5000</td>\n",
       "      <td>1273.00</td>\n",
       "    </tr>\n",
       "    <tr>\n",
       "      <th>Satilan Ürün Sayisi</th>\n",
       "      <td>1070.0</td>\n",
       "      <td>9676.980374</td>\n",
       "      <td>15370.571306</td>\n",
       "      <td>106.00</td>\n",
       "      <td>551.250</td>\n",
       "      <td>3924.000</td>\n",
       "      <td>5312.2500</td>\n",
       "      <td>61560.00</td>\n",
       "    </tr>\n",
       "  </tbody>\n",
       "</table>\n",
       "</div>"
      ],
      "text/plain": [
       "                              count          mean           std       min  \\\n",
       "Sira                         1070.0    534.500000    309.026698      0.00   \n",
       "Yayin Yili                   1070.0   1984.686916     59.387300   1308.00   \n",
       "Kitap Ortalama Derecesi      1070.0      4.007000      0.247244      2.97   \n",
       "Kitap Derecelendirme Sayisi  1070.0  94909.913084  31513.242518  27308.00   \n",
       "Brüt Satiş                   1070.0   1856.622944   3936.924240    104.94   \n",
       "Yayinevi Geliri              1070.0    843.281030   2257.596743      0.00   \n",
       "Satiş Fiyati                 1070.0      4.869561      3.559919      0.99   \n",
       "Satiş Siralamasi             1070.0    611.652336    369.849830      1.00   \n",
       "Satilan Ürün Sayisi          1070.0   9676.980374  15370.571306    106.00   \n",
       "\n",
       "                                   25%        50%          75%        max  \n",
       "Sira                           267.250    534.500     801.7500    1069.00  \n",
       "Yayin Yili                    1985.000   2003.000    2010.0000    2016.00  \n",
       "Kitap Ortalama Derecesi          3.850      4.015       4.1700       4.77  \n",
       "Kitap Derecelendirme Sayisi  70398.000  89309.000  113906.5000  206792.00  \n",
       "Brüt Satiş                     372.465    809.745    1487.9575   47795.00  \n",
       "Yayinevi Geliri                  0.000    273.078     721.1805   28677.00  \n",
       "Satiş Fiyati                     1.990      3.990       6.9900      33.86  \n",
       "Satiş Siralamasi               287.500    595.500     932.5000    1273.00  \n",
       "Satilan Ürün Sayisi            551.250   3924.000    5312.2500   61560.00  "
      ]
     },
     "execution_count": 46,
     "metadata": {},
     "output_type": "execute_result"
    }
   ],
   "source": [
    "df.describe().T"
   ]
  },
  {
   "cell_type": "code",
   "execution_count": 47,
   "id": "7fce4395",
   "metadata": {},
   "outputs": [],
   "source": [
    "Q1_Brüt_Satis = df[\"Brüt Satiş\"].quantile(0.25)\n",
    "Q3_Brüt_Satis = df[\"Brüt Satiş\"].quantile(0.75)\n",
    "IQR = Q3_Brüt_Satis - Q1_Brüt_Satis\n",
    "\n",
    "lower_bound = Q1_Brüt_Satis - 1.5 * IQR\n",
    "upper_bound = Q3_Brüt_Satis + 1.5 * IQR\n",
    "\n"
   ]
  },
  {
   "cell_type": "code",
   "execution_count": 48,
   "id": "dab9af2c",
   "metadata": {},
   "outputs": [],
   "source": [
    "df = df.drop(df[(df[\"Brüt Satiş\"] < lower_bound) | (df[\"Brüt Satiş\"] > upper_bound)].index)\n"
   ]
  },
  {
   "cell_type": "code",
   "execution_count": 49,
   "id": "137fe551",
   "metadata": {},
   "outputs": [],
   "source": [
    "Q1_Yayinevi_Geliri = df[\"Yayinevi Geliri\"].quantile(0.25)\n",
    "Q3_Yayinevi_Geliri = df[\"Yayinevi Geliri\"].quantile(0.75)\n",
    "IQR = Q3_Yayinevi_Geliri - Q1_Yayinevi_Geliri\n",
    "\n",
    "lower_bound = Q1_Yayinevi_Geliri - 1.5 * IQR\n",
    "upper_bound = Q3_Yayinevi_Geliri + 1.5 * IQR\n",
    "\n"
   ]
  },
  {
   "cell_type": "code",
   "execution_count": 50,
   "id": "26225623",
   "metadata": {},
   "outputs": [],
   "source": [
    "df = df.drop(df[(df[\"Yayinevi Geliri\"] < lower_bound) | (df[\"Yayinevi Geliri\"] > upper_bound)].index)"
   ]
  },
  {
   "cell_type": "code",
   "execution_count": 51,
   "id": "e080d9cf",
   "metadata": {},
   "outputs": [],
   "source": [
    "Q1_Satis_Siralamasi = df[\"Satiş Siralamasi\"].quantile(0.25)\n",
    "Q3_Satis_Siralamasi = df[\"Satiş Siralamasi\"].quantile(0.75)\n",
    "IQR = Q3_Satis_Siralamasi - Q1_Satis_Siralamasi\n",
    "\n",
    "lower_bound = Q1_Satis_Siralamasi - 1.5 * IQR\n",
    "upper_bound = Q3_Satis_Siralamasi + 1.5 * IQR\n",
    "\n"
   ]
  },
  {
   "cell_type": "code",
   "execution_count": 52,
   "id": "d7c574ce",
   "metadata": {},
   "outputs": [],
   "source": [
    "df = df.drop(df[(df[\"Satiş Siralamasi\"] < lower_bound) | (df[\"Satiş Siralamasi\"] > upper_bound)].index)"
   ]
  },
  {
   "cell_type": "code",
   "execution_count": 53,
   "id": "f589e3a8",
   "metadata": {},
   "outputs": [
    {
     "data": {
      "text/html": [
       "<div>\n",
       "<style scoped>\n",
       "    .dataframe tbody tr th:only-of-type {\n",
       "        vertical-align: middle;\n",
       "    }\n",
       "\n",
       "    .dataframe tbody tr th {\n",
       "        vertical-align: top;\n",
       "    }\n",
       "\n",
       "    .dataframe thead th {\n",
       "        text-align: right;\n",
       "    }\n",
       "</style>\n",
       "<table border=\"1\" class=\"dataframe\">\n",
       "  <thead>\n",
       "    <tr style=\"text-align: right;\">\n",
       "      <th></th>\n",
       "      <th>count</th>\n",
       "      <th>mean</th>\n",
       "      <th>std</th>\n",
       "      <th>min</th>\n",
       "      <th>25%</th>\n",
       "      <th>50%</th>\n",
       "      <th>75%</th>\n",
       "      <th>max</th>\n",
       "    </tr>\n",
       "  </thead>\n",
       "  <tbody>\n",
       "    <tr>\n",
       "      <th>Sira</th>\n",
       "      <td>932.0</td>\n",
       "      <td>596.259657</td>\n",
       "      <td>280.861015</td>\n",
       "      <td>19.00</td>\n",
       "      <td>369.75</td>\n",
       "      <td>603.500</td>\n",
       "      <td>836.2500</td>\n",
       "      <td>1069.000</td>\n",
       "    </tr>\n",
       "    <tr>\n",
       "      <th>Yayin Yili</th>\n",
       "      <td>932.0</td>\n",
       "      <td>1985.831545</td>\n",
       "      <td>58.740454</td>\n",
       "      <td>1308.00</td>\n",
       "      <td>1986.00</td>\n",
       "      <td>2003.000</td>\n",
       "      <td>2010.0000</td>\n",
       "      <td>2016.000</td>\n",
       "    </tr>\n",
       "    <tr>\n",
       "      <th>Kitap Ortalama Derecesi</th>\n",
       "      <td>932.0</td>\n",
       "      <td>4.009152</td>\n",
       "      <td>0.248273</td>\n",
       "      <td>2.97</td>\n",
       "      <td>3.85</td>\n",
       "      <td>4.020</td>\n",
       "      <td>4.1725</td>\n",
       "      <td>4.770</td>\n",
       "    </tr>\n",
       "    <tr>\n",
       "      <th>Kitap Derecelendirme Sayisi</th>\n",
       "      <td>932.0</td>\n",
       "      <td>88213.483906</td>\n",
       "      <td>26361.034626</td>\n",
       "      <td>27308.00</td>\n",
       "      <td>68247.25</td>\n",
       "      <td>83293.000</td>\n",
       "      <td>103919.5000</td>\n",
       "      <td>199572.000</td>\n",
       "    </tr>\n",
       "    <tr>\n",
       "      <th>Brüt Satiş</th>\n",
       "      <td>932.0</td>\n",
       "      <td>814.602897</td>\n",
       "      <td>605.556860</td>\n",
       "      <td>104.94</td>\n",
       "      <td>343.85</td>\n",
       "      <td>661.085</td>\n",
       "      <td>1153.2975</td>\n",
       "      <td>3112.200</td>\n",
       "    </tr>\n",
       "    <tr>\n",
       "      <th>Yayinevi Geliri</th>\n",
       "      <td>932.0</td>\n",
       "      <td>350.526315</td>\n",
       "      <td>390.629830</td>\n",
       "      <td>0.00</td>\n",
       "      <td>0.00</td>\n",
       "      <td>210.795</td>\n",
       "      <td>619.2750</td>\n",
       "      <td>1583.604</td>\n",
       "    </tr>\n",
       "    <tr>\n",
       "      <th>Satiş Fiyati</th>\n",
       "      <td>932.0</td>\n",
       "      <td>4.482639</td>\n",
       "      <td>3.261195</td>\n",
       "      <td>0.99</td>\n",
       "      <td>1.99</td>\n",
       "      <td>3.990</td>\n",
       "      <td>6.6700</td>\n",
       "      <td>16.980</td>\n",
       "    </tr>\n",
       "    <tr>\n",
       "      <th>Satiş Siralamasi</th>\n",
       "      <td>932.0</td>\n",
       "      <td>683.682403</td>\n",
       "      <td>339.726955</td>\n",
       "      <td>19.00</td>\n",
       "      <td>400.75</td>\n",
       "      <td>689.500</td>\n",
       "      <td>974.0000</td>\n",
       "      <td>1273.000</td>\n",
       "    </tr>\n",
       "    <tr>\n",
       "      <th>Satilan Ürün Sayisi</th>\n",
       "      <td>932.0</td>\n",
       "      <td>10879.479614</td>\n",
       "      <td>16117.240027</td>\n",
       "      <td>106.00</td>\n",
       "      <td>526.25</td>\n",
       "      <td>4240.000</td>\n",
       "      <td>5805.0000</td>\n",
       "      <td>61560.000</td>\n",
       "    </tr>\n",
       "  </tbody>\n",
       "</table>\n",
       "</div>"
      ],
      "text/plain": [
       "                             count          mean           std       min  \\\n",
       "Sira                         932.0    596.259657    280.861015     19.00   \n",
       "Yayin Yili                   932.0   1985.831545     58.740454   1308.00   \n",
       "Kitap Ortalama Derecesi      932.0      4.009152      0.248273      2.97   \n",
       "Kitap Derecelendirme Sayisi  932.0  88213.483906  26361.034626  27308.00   \n",
       "Brüt Satiş                   932.0    814.602897    605.556860    104.94   \n",
       "Yayinevi Geliri              932.0    350.526315    390.629830      0.00   \n",
       "Satiş Fiyati                 932.0      4.482639      3.261195      0.99   \n",
       "Satiş Siralamasi             932.0    683.682403    339.726955     19.00   \n",
       "Satilan Ürün Sayisi          932.0  10879.479614  16117.240027    106.00   \n",
       "\n",
       "                                  25%        50%          75%         max  \n",
       "Sira                           369.75    603.500     836.2500    1069.000  \n",
       "Yayin Yili                    1986.00   2003.000    2010.0000    2016.000  \n",
       "Kitap Ortalama Derecesi          3.85      4.020       4.1725       4.770  \n",
       "Kitap Derecelendirme Sayisi  68247.25  83293.000  103919.5000  199572.000  \n",
       "Brüt Satiş                     343.85    661.085    1153.2975    3112.200  \n",
       "Yayinevi Geliri                  0.00    210.795     619.2750    1583.604  \n",
       "Satiş Fiyati                     1.99      3.990       6.6700      16.980  \n",
       "Satiş Siralamasi               400.75    689.500     974.0000    1273.000  \n",
       "Satilan Ürün Sayisi            526.25   4240.000    5805.0000   61560.000  "
      ]
     },
     "execution_count": 53,
     "metadata": {},
     "output_type": "execute_result"
    }
   ],
   "source": [
    "df.describe().T"
   ]
  },
  {
   "cell_type": "code",
   "execution_count": 54,
   "id": "d1ec1ac4",
   "metadata": {},
   "outputs": [
    {
     "data": {
      "text/html": [
       "<div>\n",
       "<style scoped>\n",
       "    .dataframe tbody tr th:only-of-type {\n",
       "        vertical-align: middle;\n",
       "    }\n",
       "\n",
       "    .dataframe tbody tr th {\n",
       "        vertical-align: top;\n",
       "    }\n",
       "\n",
       "    .dataframe thead th {\n",
       "        text-align: right;\n",
       "    }\n",
       "</style>\n",
       "<table border=\"1\" class=\"dataframe\">\n",
       "  <thead>\n",
       "    <tr style=\"text-align: right;\">\n",
       "      <th></th>\n",
       "      <th>Sira</th>\n",
       "      <th>Yayin Yili</th>\n",
       "      <th>Kitap Adi</th>\n",
       "      <th>Yazar</th>\n",
       "      <th>Dil Kodu</th>\n",
       "      <th>Yazar Derecesi</th>\n",
       "      <th>Kitap Ortalama Derecesi</th>\n",
       "      <th>Kitap Derecelendirme Sayisi</th>\n",
       "      <th>Tür</th>\n",
       "      <th>Brüt Satiş</th>\n",
       "      <th>Yayinevi Geliri</th>\n",
       "      <th>Satiş Fiyati</th>\n",
       "      <th>Satiş Siralamasi</th>\n",
       "      <th>Yayinci</th>\n",
       "      <th>Satilan Ürün Sayisi</th>\n",
       "    </tr>\n",
       "  </thead>\n",
       "  <tbody>\n",
       "    <tr>\n",
       "      <th>149</th>\n",
       "      <td>149</td>\n",
       "      <td>1937</td>\n",
       "      <td>Think and Grow Rich</td>\n",
       "      <td>Napoleon Hill</td>\n",
       "      <td>eng</td>\n",
       "      <td>Intermediate</td>\n",
       "      <td>4.17</td>\n",
       "      <td>87445</td>\n",
       "      <td>genre fiction</td>\n",
       "      <td>702.90</td>\n",
       "      <td>0.00</td>\n",
       "      <td>0.99</td>\n",
       "      <td>158</td>\n",
       "      <td>Amazon Digital Services,  Inc.</td>\n",
       "      <td>710</td>\n",
       "    </tr>\n",
       "    <tr>\n",
       "      <th>203</th>\n",
       "      <td>203</td>\n",
       "      <td>1976</td>\n",
       "      <td>Roots</td>\n",
       "      <td>Alex Haley</td>\n",
       "      <td>eng</td>\n",
       "      <td>Famous</td>\n",
       "      <td>4.42</td>\n",
       "      <td>118951</td>\n",
       "      <td>genre fiction</td>\n",
       "      <td>460.35</td>\n",
       "      <td>276.21</td>\n",
       "      <td>0.99</td>\n",
       "      <td>221</td>\n",
       "      <td>Macmillan</td>\n",
       "      <td>465</td>\n",
       "    </tr>\n",
       "    <tr>\n",
       "      <th>399</th>\n",
       "      <td>399</td>\n",
       "      <td>2008</td>\n",
       "      <td>Olive Kitteridge</td>\n",
       "      <td>Elizabeth Strout</td>\n",
       "      <td>eng</td>\n",
       "      <td>Intermediate</td>\n",
       "      <td>3.78</td>\n",
       "      <td>85019</td>\n",
       "      <td>genre fiction</td>\n",
       "      <td>205.92</td>\n",
       "      <td>0.00</td>\n",
       "      <td>0.99</td>\n",
       "      <td>433</td>\n",
       "      <td>Amazon Digital Services,  Inc.</td>\n",
       "      <td>5616</td>\n",
       "    </tr>\n",
       "  </tbody>\n",
       "</table>\n",
       "</div>"
      ],
      "text/plain": [
       "     Sira  Yayin Yili            Kitap Adi             Yazar Dil Kodu  \\\n",
       "149   149        1937  Think and Grow Rich     Napoleon Hill      eng   \n",
       "203   203        1976                Roots        Alex Haley      eng   \n",
       "399   399        2008     Olive Kitteridge  Elizabeth Strout      eng   \n",
       "\n",
       "    Yazar Derecesi  Kitap Ortalama Derecesi  Kitap Derecelendirme Sayisi  \\\n",
       "149   Intermediate                     4.17                        87445   \n",
       "203         Famous                     4.42                       118951   \n",
       "399   Intermediate                     3.78                        85019   \n",
       "\n",
       "               Tür  Brüt Satiş  Yayinevi Geliri  Satiş Fiyati  \\\n",
       "149  genre fiction      702.90             0.00          0.99   \n",
       "203  genre fiction      460.35           276.21          0.99   \n",
       "399  genre fiction      205.92             0.00          0.99   \n",
       "\n",
       "     Satiş Siralamasi                         Yayinci  Satilan Ürün Sayisi  \n",
       "149               158  Amazon Digital Services,  Inc.                  710  \n",
       "203               221                       Macmillan                  465  \n",
       "399               433  Amazon Digital Services,  Inc.                 5616  "
      ]
     },
     "execution_count": 54,
     "metadata": {},
     "output_type": "execute_result"
    }
   ],
   "source": [
    "df.sample(3)"
   ]
  },
  {
   "cell_type": "code",
   "execution_count": null,
   "id": "f9ba264e",
   "metadata": {},
   "outputs": [],
   "source": []
  },
  {
   "cell_type": "code",
   "execution_count": 59,
   "id": "6c14e5b6",
   "metadata": {},
   "outputs": [
    {
     "name": "stderr",
     "output_type": "stream",
     "text": [
      "C:\\Users\\tr_co\\AppData\\Local\\Temp\\ipykernel_14936\\3995732058.py:7: FutureWarning: \n",
      "\n",
      "Passing `palette` without assigning `hue` is deprecated and will be removed in v0.14.0. Assign the `x` variable to `hue` and set `legend=False` for the same effect.\n",
      "\n",
      "  ax = sns.countplot(x=column, data=df, palette='viridis')\n"
     ]
    },
    {
     "data": {
      "image/png": "[encoded data removed]",
      "text/plain": [
       "<Figure size 1800x1600 with 1 Axes>"
      ]
     },
     "metadata": {},
     "output_type": "display_data"
    },
    {
     "name": "stderr",
     "output_type": "stream",
     "text": [
      "C:\\Users\\tr_co\\AppData\\Local\\Temp\\ipykernel_14936\\3995732058.py:7: FutureWarning: \n",
      "\n",
      "Passing `palette` without assigning `hue` is deprecated and will be removed in v0.14.0. Assign the `x` variable to `hue` and set `legend=False` for the same effect.\n",
      "\n",
      "  ax = sns.countplot(x=column, data=df, palette='viridis')\n"
     ]
    },
    {
     "data": {
      "image/png": "[encoded data removed]",
      "text/plain": [
       "<Figure size 1800x1600 with 1 Axes>"
      ]
     },
     "metadata": {},
     "output_type": "display_data"
    },
    {
     "name": "stderr",
     "output_type": "stream",
     "text": [
      "C:\\Users\\tr_co\\AppData\\Local\\Temp\\ipykernel_14936\\3995732058.py:7: FutureWarning: \n",
      "\n",
      "Passing `palette` without assigning `hue` is deprecated and will be removed in v0.14.0. Assign the `x` variable to `hue` and set `legend=False` for the same effect.\n",
      "\n",
      "  ax = sns.countplot(x=column, data=df, palette='viridis')\n"
     ]
    },
    {
     "data": {
      "image/png": "[encoded data removed]",
      "text/plain": [
       "<Figure size 1800x1600 with 1 Axes>"
      ]
     },
     "metadata": {},
     "output_type": "display_data"
    },
    {
     "name": "stderr",
     "output_type": "stream",
     "text": [
      "C:\\Users\\tr_co\\AppData\\Local\\Temp\\ipykernel_14936\\3995732058.py:7: FutureWarning: \n",
      "\n",
      "Passing `palette` without assigning `hue` is deprecated and will be removed in v0.14.0. Assign the `x` variable to `hue` and set `legend=False` for the same effect.\n",
      "\n",
      "  ax = sns.countplot(x=column, data=df, palette='viridis')\n"
     ]
    },
    {
     "data": {
      "image/png": "[encoded data removed]",
      "text/plain": [
       "<Figure size 1800x1600 with 1 Axes>"
      ]
     },
     "metadata": {},
     "output_type": "display_data"
    }
   ],
   "source": [
    "# İlk iki kategorik özelliği atlayarak döngüyü başlat\n",
    "for index, column in enumerate(categor):\n",
    "    if index < 2:\n",
    "        continue\n",
    "    \n",
    "    plt.figure(figsize=(18, 16))\n",
    "    ax = sns.countplot(x=column, data=df, palette='viridis')\n",
    "    plt.title(f'Distribution of Categories {column}')\n",
    "\n",
    "    # Barlar üzerindeki sayımları otomatik olarak etiketle\n",
    "    ax.bar_label(ax.containers[0])\n",
    "    \n",
    "    plt.xticks(rotation=90)\n",
    "    plt.show()\n"
   ]
  },
  {
   "cell_type": "code",
   "execution_count": null,
   "id": "e662eb08",
   "metadata": {},
   "outputs": [],
   "source": []
  },
  {
   "cell_type": "code",
   "execution_count": 60,
   "id": "775d990a",
   "metadata": {},
   "outputs": [
    {
     "data": {
      "image/png": "[encoded data removed]",
      "text/plain": [
       "<Figure size 1200x1000 with 2 Axes>"
      ]
     },
     "metadata": {},
     "output_type": "display_data"
    }
   ],
   "source": [
    "import seaborn as sns\n",
    "import matplotlib.pyplot as plt\n",
    "\n",
    "# Nümerik sütunları seç\n",
    "numerik = df.select_dtypes('number')\n",
    "\n",
    "# Korelasyon matrisini hesapla\n",
    "corr_matrix = numerik.corr()\n",
    "\n",
    "# Heatmap'i oluştur\n",
    "plt.figure(figsize=(12, 10))\n",
    "sns.heatmap(corr_matrix, annot=True, cmap='viridis', fmt=\".2f\")\n",
    "plt.title('Correlation Heatmap')\n",
    "plt.show()"
   ]
  },
  {
   "cell_type": "code",
   "execution_count": null,
   "id": "f574a944",
   "metadata": {},
   "outputs": [],
   "source": []
  },
  {
   "cell_type": "code",
   "execution_count": null,
   "id": "74513c32",
   "metadata": {},
   "outputs": [],
   "source": []
  },
  {
   "cell_type": "code",
   "execution_count": null,
   "id": "fcbb55ec",
   "metadata": {},
   "outputs": [],
   "source": []
  }
 ],
 "metadata": {
  "hide_input": false,
  "kernelspec": {
   "display_name": "Python 3 (ipykernel)",
   "language": "python",
   "name": "python3"
  },
  "language_info": {
   "codemirror_mode": {
    "name": "ipython",
    "version": 3
   },
   "file_extension": ".py",
   "mimetype": "text/x-python",
   "name": "python",
   "nbconvert_exporter": "python",
   "pygments_lexer": "ipython3",
   "version": "3.11.8"
  },
  "toc": {
   "base_numbering": 1,
   "nav_menu": {},
   "number_sections": true,
   "sideBar": true,
   "skip_h1_title": false,
   "title_cell": "Table of Contents",
   "title_sidebar": "Contents",
   "toc_cell": false,
   "toc_position": {},
   "toc_section_display": true,
   "toc_window_display": false
  }
 },
 "nbformat": 4,
 "nbformat_minor": 5
}
